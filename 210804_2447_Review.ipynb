{
  "nbformat": 4,
  "nbformat_minor": 0,
  "metadata": {
    "colab": {
      "name": "210804_2447_Review.ipynb",
      "provenance": [],
      "collapsed_sections": [],
      "authorship_tag": "ABX9TyOzI6LKh13UkpGKdQGDMyCG",
      "include_colab_link": true
    },
    "kernelspec": {
      "name": "python3",
      "display_name": "Python 3"
    },
    "language_info": {
      "name": "python"
    }
  },
  "cells": [
    {
      "cell_type": "markdown",
      "metadata": {
        "id": "view-in-github",
        "colab_type": "text"
      },
      "source": [
        "<a href=\"https://colab.research.google.com/github/tjdrhks0808/BOJ/blob/main/210804_2447_Review.ipynb\" target=\"_parent\"><img src=\"https://colab.research.google.com/assets/colab-badge.svg\" alt=\"Open In Colab\"/></a>"
      ]
    },
    {
      "cell_type": "markdown",
      "metadata": {
        "id": "NIZPR4dqAqgf"
      },
      "source": [
        "# BOJ 2447\n",
        "> 별 찍기 - 10\n",
        "\n",
        "---\n",
        "\n",
        "재귀적인 패턴으로 별을 찍어 보자. N이 3의 거듭제곱(3, 9, 27, ...)이라고 할 때, 크기 N의 패턴은 N×N 정사각형 모양이다.\n",
        "\n",
        "크기 3의 패턴은 가운데에 공백이 있고, 가운데를 제외한 모든 칸에 별이 하나씩 있는 패턴이다.\n",
        "\n",
        "N이 3보다 클 경우, 크기 N의 패턴은 공백으로 채워진 가운데의 (N/3)×(N/3) 정사각형을 크기 N/3의 패턴으로 둘러싼 형태이다. 예를 들어 크기 27의 패턴은 예제 출력 1과 같다.\n",
        "\n",
        "https://www.acmicpc.net/problem/2447"
      ]
    },
    {
      "cell_type": "code",
      "metadata": {
        "colab": {
          "base_uri": "https://localhost:8080/"
        },
        "id": "iHc3Dj8kAUVQ",
        "outputId": "8111a8dc-26f3-4600-907e-3fb138bff49d"
      },
      "source": [
        "def star(first):                                                        # 별을 그리는 함수\n",
        "  matrix = []\n",
        "  for i in range(3 * len(first)):                                       # N=9일 때로 예시\n",
        "    if i // len(first) == 1:                                            # 3, 4, 5줄은\n",
        "                                                                        # 가운데 칸을 비우고 양쪽에 기존값 그리기\n",
        "      matrix.append( first[i % len(first)] + \" \" * len(first) + first[i % len(first)])\n",
        "    else:                                                               # 0, 1, 2, 6, 7, 8줄에는\n",
        "      matrix.append( first[i % len(first)] * 3)                         # 똑같이 3번 반복해서 그리기\n",
        "  return matrix\n",
        "\n",
        "stars = [\"***\", \"* *\", \"***\"]\n",
        "\n",
        "N = int(input())        # N 입력값\n",
        "e = 0                   # 횟수 변수\n",
        "while N != 3:           # N이 3이 될 때까지 3으로 나눔\n",
        "  N = int(N/3)\n",
        "  e += 1                # e는 N이 3에서 3을 몇번 곱한 수인지 계산 ( N=27, e=2 )\n",
        "\n",
        "for i in range(e):      # 거듭제곱-1 만큼 반복\n",
        "  stars = star(stars)   # 먼저 그린 별을 쌓아가며 그림\n",
        "for i in stars:\n",
        "  print(i)              # 출력"
      ],
      "execution_count": null,
      "outputs": [
        {
          "output_type": "stream",
          "text": [
            "27\n",
            "***************************\n",
            "* ** ** ** ** ** ** ** ** *\n",
            "***************************\n",
            "***   ******   ******   ***\n",
            "* *   * ** *   * ** *   * *\n",
            "***   ******   ******   ***\n",
            "***************************\n",
            "* ** ** ** ** ** ** ** ** *\n",
            "***************************\n",
            "*********         *********\n",
            "* ** ** *         * ** ** *\n",
            "*********         *********\n",
            "***   ***         ***   ***\n",
            "* *   * *         * *   * *\n",
            "***   ***         ***   ***\n",
            "*********         *********\n",
            "* ** ** *         * ** ** *\n",
            "*********         *********\n",
            "***************************\n",
            "* ** ** ** ** ** ** ** ** *\n",
            "***************************\n",
            "***   ******   ******   ***\n",
            "* *   * ** *   * ** *   * *\n",
            "***   ******   ******   ***\n",
            "***************************\n",
            "* ** ** ** ** ** ** ** ** *\n",
            "***************************\n"
          ],
          "name": "stdout"
        }
      ]
    }
  ]
}