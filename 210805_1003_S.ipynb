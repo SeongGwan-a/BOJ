{
  "nbformat": 4,
  "nbformat_minor": 0,
  "metadata": {
    "colab": {
      "name": "210805_1003_S.ipynb",
      "provenance": [],
      "collapsed_sections": [],
      "authorship_tag": "ABX9TyOxUdvdNjGJIHyQ89RFMe3U",
      "include_colab_link": true
    },
    "kernelspec": {
      "name": "python3",
      "display_name": "Python 3"
    },
    "language_info": {
      "name": "python"
    }
  },
  "cells": [
    {
      "cell_type": "markdown",
      "metadata": {
        "id": "view-in-github",
        "colab_type": "text"
      },
      "source": [
        "<a href=\"https://colab.research.google.com/github/tjdrhks0808/BOJ/blob/main/210805_1003_S.ipynb\" target=\"_parent\"><img src=\"https://colab.research.google.com/assets/colab-badge.svg\" alt=\"Open In Colab\"/></a>"
      ]
    },
    {
      "cell_type": "markdown",
      "metadata": {
        "id": "hqZTL82p42WF"
      },
      "source": [
        "# BOJ 1003\n",
        "> 피보나치 함수\n",
        "\n",
        "\n",
        "---\n",
        "\n",
        "\n",
        "fibonacci(3)을 호출하면 다음과 같은 일이 일어난다.\n",
        "\n",
        "* fibonacci(3)은 fibonacci(2)와 fibonacci(1) (첫 번째 호출)을 호출한다.\n",
        "* fibonacci(2)는 fibonacci(1) (두 번째 호출)과 fibonacci(0)을 호출한다.\n",
        "* 두 번째 호출한 fibonacci(1)은 1을 출력하고 1을 리턴한다.\n",
        "* fibonacci(0)은 0을 출력하고, 0을 리턴한다.\n",
        "* fibonacci(2)는 fibonacci(1)과 fibonacci(0)의 결과를 얻고, 1을 리턴한다.\n",
        "* 첫 번째 호출한 fibonacci(1)은 1을 출력하고, 1을 리턴한다.\n",
        "* fibonacci(3)은 fibonacci(2)와 fibonacci(1)의 결과를 얻고, 2를 리턴한다.\n",
        "\n",
        "1은 2번 출력되고, 0은 1번 출력된다. N이 주어졌을 때, fibonacci(N)을 호출했을 때, 0과 1이 각각 몇 번 출력되는지 구하는 프로그램을 작성하시오.\n",
        "\n",
        "https://www.acmicpc.net/problem/1003"
      ]
    },
    {
      "cell_type": "code",
      "metadata": {
        "colab": {
          "base_uri": "https://localhost:8080/"
        },
        "id": "7uJSUVE2tb98",
        "outputId": "cc4c8f9c-7930-499b-9681-94cc8b4c1ad7"
      },
      "source": [
        "# 1003\n",
        "\n",
        "import sys\n",
        "T = int(input())  # sys.stdin.readline\n",
        "\n",
        "def fibonacci_cnt(num):\n",
        "  global cnt_zero\n",
        "  global cnt_one\n",
        "  \n",
        "  if num == 0:\n",
        "    cnt_zero += 1\n",
        "    return 0\n",
        "  \n",
        "  elif num == 1:\n",
        "    cnt_one += 1\n",
        "    return 1\n",
        "  \n",
        "  else:\n",
        "    return fibonacci_cnt(num-1) + fibonacci_cnt(num-2)\n",
        "\n",
        "for _ in range(T):\n",
        "  N = int(input())  # sys.stdin.readline\n",
        "  cnt_zero = 0\n",
        "  cnt_one = 0\n",
        "  fibonacci_cnt(N)\n",
        "  print(cnt_zero, end=\" \")\n",
        "  print(cnt_one)\n",
        "\n",
        "  ## 시간초과\n",
        "  ## 동적계획법 사용해야함!"
      ],
      "execution_count": 10,
      "outputs": [
        {
          "output_type": "stream",
          "text": [
            "3\n",
            "0\n",
            "1 0\n",
            "1\n",
            "0 1\n",
            "3\n",
            "1 2\n"
          ],
          "name": "stdout"
        }
      ]
    },
    {
      "cell_type": "code",
      "metadata": {
        "colab": {
          "base_uri": "https://localhost:8080/"
        },
        "id": "GKOQ_hxuuiQh",
        "outputId": "cf7dd2ca-f912-4403-f370-1323c0899c85"
      },
      "source": [
        "# 1003 - 2\n",
        "\n",
        "import sys\n",
        "T = int(input())  # sys.stdin.readline\n",
        "\n",
        "def fibonacci_cnt(num):\n",
        "  # 2보다 작은 수는 바로 출력\n",
        "  if num >= 3:\n",
        "    # 4번째(index=3) 값부터 num까지 계산\n",
        "    for i in range(3, num+1):\n",
        "      zero_cnt.append(zero_cnt[i-2] + zero_cnt[i-1])\n",
        "      one_cnt.append(one_cnt[i-2] + one_cnt[i-1])\n",
        "\n",
        "  print(zero_cnt[num], one_cnt[num])\n",
        "\n",
        "for _ in range(T):\n",
        "  N = int(input())  # sys.stdin.readline\n",
        "  \n",
        "  # 0~2까지 계산을 미리 해놓음\n",
        "  zero_cnt = [1,0,1]\n",
        "  one_cnt = [0,1,1]\n",
        "  fibonacci_cnt(N)"
      ],
      "execution_count": 21,
      "outputs": [
        {
          "output_type": "stream",
          "text": [
            "3\n",
            "0\n",
            "1 0\n",
            "1\n",
            "0 1\n",
            "3\n",
            "1 2\n"
          ],
          "name": "stdout"
        }
      ]
    }
  ]
}