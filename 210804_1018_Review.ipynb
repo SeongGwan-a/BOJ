{
  "nbformat": 4,
  "nbformat_minor": 0,
  "metadata": {
    "colab": {
      "name": "210804_1018_Review.ipynb",
      "provenance": [],
      "collapsed_sections": [],
      "authorship_tag": "ABX9TyPog91HNIpjgBhhf/9F9GA6"
    },
    "kernelspec": {
      "name": "python3",
      "display_name": "Python 3"
    },
    "language_info": {
      "name": "python"
    }
  },
  "cells": [
    {
      "cell_type": "markdown",
      "metadata": {
        "id": "Q95S6RYMK7dy"
      },
      "source": [
        "# BOJ 1018\n",
        "> 체스판 다시 칠하기\n",
        "\n",
        "\n",
        "---\n",
        "\n",
        "지민이는 자신의 저택에서 MxN개의 단위 정사각형으로 나누어져 있는 MxN 크기의 보드를 찾았다. 어떤 정사각형은 검은색으로 칠해져 있고, 나머지는 흰색으로 칠해져 있다. 지민이는 이 보드를 잘라서 8x8 크기의 체스판으로 만들려고 한다.\n",
        "\n",
        "체스판은 검은색과 흰색이 번갈아서 칠해져 있어야 한다. 구체적으로, 각 칸이 검은색과 흰색 중 하나로 색칠되어 있고, 변을 공유하는 두 개의 사각형은 다른 색으로 칠해져 있어야 한다. 따라서 이 정의를 따르면 체스판을 색칠하는 경우는 두 가지뿐이다. 하나는 맨 왼쪽 위 칸이 흰색인 경우, 하나는 검은색인 경우이다.\n",
        "\n",
        "보드가 체스판처럼 칠해져 있다는 보장이 없어서, 지민이는 8x8 크기의 체스판으로 잘라낸 후에 몇 개의 정사각형을 다시 칠해야겠다고 생각했다. 당연히 8x8 크기는 아무데서나 골라도 된다. 지민이가 다시 칠해야 하는 정사각형의 최소 개수를 구하는 프로그램을 작성하시오.\n",
        "\n",
        "https://www.acmicpc.net/problem/1018\n"
      ]
    },
    {
      "cell_type": "code",
      "metadata": {
        "colab": {
          "base_uri": "https://localhost:8080/"
        },
        "id": "ZeEDpp2WHxRI",
        "outputId": "f97d3818-c14b-403c-983b-f7fa0df567b4"
      },
      "source": [
        "n, m = map(int, input().split())\n",
        "\n",
        "board = []\n",
        "for _ in range(n):\n",
        "  board.append(list(input()))\n",
        "\n",
        "cnt_list=[]                           # 각 시도별 다시 칠하는 횟수 카운트\n",
        "\n",
        "for i in range(n-7):                  # MxN 크기를 8x8로 분할\n",
        "  for j in range(m-7):\n",
        "    W_first = 0                       # 첫번째 타일이 하얀색으로 시작할 때\n",
        "    B_first = 0                       # 첫번째 타일이 검은색으로 시작할 때\n",
        "    for s in range(i, i+8):\n",
        "      for k in range(j, j+8):         # 분할된 8x8 체스판의 처음부터 끝까지\n",
        "\n",
        "          if ((s-i)+(k-j)) % 2 == 0:  # 첫번째 타일과 같은 색이어야 하는 타일의 조건(대각선)\n",
        "            if board[s][k] != 'W':    # 해당 타일이 검은색이면 첫번째가 하얀색일 때, 다시 칠해야 하는 개수 +1\n",
        "              W_first += 1\n",
        "            else:                     # 하얀색이면 첫번째가 검은색일 때, 다시 칠해야 하는 개수 +1\n",
        "              B_first += 1\n",
        "          else:\n",
        "            if board[s][k] != 'B':    # 첫번째 타일과 다른 색이어야 하는 타일의 조건\n",
        "              W_first += 1\n",
        "            else:\n",
        "              B_first += 1\n",
        "\n",
        "    cnt_list.append(W_first)\n",
        "    cnt_list.append(B_first)\n",
        "\n",
        "print(min(cnt_list))                  # 각 횟수 중 최소값 출력"
      ],
      "execution_count": 2,
      "outputs": [
        {
          "output_type": "stream",
          "text": [
            "10 13\n",
            "BBBBBBBBWBWBW\n",
            "BBBBBBBBBWBWB\n",
            "BBBBBBBBWBWBW\n",
            "BBBBBBBBBWBWB\n",
            "BBBBBBBBWBWBW\n",
            "BBBBBBBBBWBWB\n",
            "BBBBBBBBWBWBW\n",
            "BBBBBBBBBWBWB\n",
            "WWWWWWWWWWBWB\n",
            "WWWWWWWWWWBWB\n",
            "12\n"
          ],
          "name": "stdout"
        }
      ]
    }
  ]
}