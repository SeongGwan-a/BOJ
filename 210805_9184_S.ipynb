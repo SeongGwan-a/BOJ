{
  "nbformat": 4,
  "nbformat_minor": 0,
  "metadata": {
    "colab": {
      "name": "210805_9184_S.ipynb",
      "provenance": [],
      "collapsed_sections": [],
      "authorship_tag": "ABX9TyNMZoHM8VvZy9+SEKadGoqs",
      "include_colab_link": true
    },
    "kernelspec": {
      "name": "python3",
      "display_name": "Python 3"
    },
    "language_info": {
      "name": "python"
    }
  },
  "cells": [
    {
      "cell_type": "markdown",
      "metadata": {
        "id": "view-in-github",
        "colab_type": "text"
      },
      "source": [
        "<a href=\"https://colab.research.google.com/github/tjdrhks0808/BOJ/blob/main/210805_9184_S.ipynb\" target=\"_parent\"><img src=\"https://colab.research.google.com/assets/colab-badge.svg\" alt=\"Open In Colab\"/></a>"
      ]
    },
    {
      "cell_type": "markdown",
      "metadata": {
        "id": "T8aTX7LQ6Ihl"
      },
      "source": [
        "# BOJ 9184\n",
        "> 신나는 함수 실행\n",
        "\n",
        "---\n",
        "\n",
        "재귀 호출만 생각하면 신이 난다! 아닌가요?\n",
        "\n",
        "\n",
        "```\n",
        "if a <= 0 or b <= 0 or c <= 0, then w(a, b, c) returns:\n",
        "    1\n",
        "\n",
        "if a > 20 or b > 20 or c > 20, then w(a, b, c) returns:\n",
        "    w(20, 20, 20)\n",
        "\n",
        "if a < b and b < c, then w(a, b, c) returns:\n",
        "    w(a, b, c-1) + w(a, b-1, c-1) - w(a, b-1, c)\n",
        "\n",
        "otherwise it returns:\n",
        "    w(a-1, b, c) + w(a-1, b-1, c) + w(a-1, b, c-1) - w(a-1, b-1, c-1)\n",
        "```\n",
        "\n",
        "위의 함수를 구현하는 것은 매우 쉽다. 하지만, 그대로 구현하면 값을 구하는데 매우 오랜 시간이 걸린다. (예를 들면, a=15, b=15, c=15)\n",
        "\n",
        "a, b, c가 주어졌을 때, w(a, b, c)를 출력하는 프로그램을 작성하시오.\n",
        "\n",
        "https://www.acmicpc.net/problem/9184"
      ]
    },
    {
      "cell_type": "code",
      "metadata": {
        "colab": {
          "base_uri": "https://localhost:8080/"
        },
        "id": "iOXb9LoQ5Y4a",
        "outputId": "ab6149cc-075a-40f7-8628-c509c1df7fe3"
      },
      "source": [
        "#9184\n",
        "\n",
        "import sys\n",
        "\n",
        "# a와 b와 c를 각각 0~20까지 지정하는 3차원 리스트\n",
        "memory = [ [[0] * 21 for _ in range(21)] for __ in range(21) ]\n",
        "\n",
        "def w(a,b,c):\n",
        "  if a <= 0 or b <= 0 or c <= 0:\n",
        "    return 1\n",
        "  if a > 20 or b > 20 or c > 20:\n",
        "    return w(20, 20, 20)\n",
        "\n",
        "  # momory에 저장되어 있으면 계산하지 말고 바로 출력\n",
        "  if memory[a][b][c]:\n",
        "    return memory[a][b][c]\n",
        "\n",
        "  if a < b and b < c:\n",
        "    memory[a][b][c] = w(a, b, c-1) + w(a, b-1, c-1) - w(a, b-1, c)\n",
        "    return memory[a][b][c]\n",
        "  \n",
        "  memory[a][b][c] = w(a-1, b, c) + w(a-1, b-1, c) + w(a-1, b, c-1) - w(a-1, b-1, c-1)\n",
        "  return memory[a][b][c]\n",
        "\n",
        "while True:\n",
        "  a, b, c = map(int, input().split())  #sys.stdin.readline\n",
        "  \n",
        "  if a == -1 and b == -1 and c == -1:\n",
        "    break\n",
        "  \n",
        "  print(f'w({}, {}, {}) = {}'.format(a, b, c, w(a,b,c)))"
      ],
      "execution_count": 5,
      "outputs": [
        {
          "output_type": "stream",
          "text": [
            "1 1 1\n",
            "w(1, 1, 1) = 2\n",
            "-1 -1 -1\n"
          ],
          "name": "stdout"
        }
      ]
    }
  ]
}