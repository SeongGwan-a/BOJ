{
  "nbformat": 4,
  "nbformat_minor": 0,
  "metadata": {
    "colab": {
      "name": "210805_2580_Review.ipynb",
      "provenance": [],
      "collapsed_sections": [],
      "authorship_tag": "ABX9TyMb7wJAWLfPsN+oVqM258gM",
      "include_colab_link": true
    },
    "kernelspec": {
      "name": "python3",
      "display_name": "Python 3"
    },
    "language_info": {
      "name": "python"
    }
  },
  "cells": [
    {
      "cell_type": "markdown",
      "metadata": {
        "id": "view-in-github",
        "colab_type": "text"
      },
      "source": [
        "<a href=\"https://colab.research.google.com/github/tjdrhks0808/BOJ/blob/main/210805_2580_Review.ipynb\" target=\"_parent\"><img src=\"https://colab.research.google.com/assets/colab-badge.svg\" alt=\"Open In Colab\"/></a>"
      ]
    },
    {
      "cell_type": "markdown",
      "metadata": {
        "id": "rygr03XahOgj"
      },
      "source": [
        "#BOJ 2580\n",
        "> 스도쿠\n",
        "\n",
        "\n",
        "---\n",
        "\n",
        "\n",
        "스도쿠는 18세기 스위스 수학자가 만든 '라틴 사각형'이랑 퍼즐에서 유래한 것으로 현재 많은 인기를 누리고 있다. 이 게임은 아래 그림과 같이 가로, 세로 각각 9개씩 총 81개의 작은 칸으로 이루어진 정사각형 판 위에서 이뤄지는데, 게임 시작 전 일부 칸에는 1부터 9까지의 숫자 중 하나가 쓰여 있다.\n",
        "\n",
        "나머지 빈 칸을 채우는 방식은 다음과 같다.\n",
        "\n",
        "1. 각각의 가로줄과 세로줄에는 1부터 9까지의 숫자가 한 번씩만 나타나야 한다.\n",
        "2. 굵은 선으로 구분되어 있는 3x3 정사각형 안에도 1부터 9까지의 숫자가 한 번씩만 나타나야 한다.\n",
        "\n",
        "게임 시작 전 스도쿠 판에 쓰여 있는 숫자들의 정보가 주어질 때 모든 빈 칸이 채워진 최종 모습을 출력하는 프로그램을 작성하시오.\n",
        "\n",
        "https://www.acmicpc.net/problem/2580\n",
        "\n",
        "\n",
        "\n",
        "\n",
        ">baekjoon의 백트래킹 알고리즘으로 풀 수 있는 입력만 주어진다. 다음은 그 알고리즘의 수행 시간이다.\n",
        "\n",
        ">PyPy3: 1172ms"
      ]
    },
    {
      "cell_type": "code",
      "metadata": {
        "id": "ihqNsN6fg1Po"
      },
      "source": [
        "# 9줄을 2차원 리스트로 입력\n",
        "board = []\n",
        "for _ in range(9):\n",
        "  tmp = list(map(int, input().split()))\n",
        "  board.append(tmp)\n",
        "\n",
        "# 그 중 0인 행과 열의 인덱스만 따로 저장\n",
        "zeros = []\n",
        "for i in range(9):\n",
        "  for j in range(9):\n",
        "    if board[i][j] == 0:\n",
        "      zeros.append((i,j))\n",
        "\n",
        "def is_promising(i, j):\n",
        "  # 1에서 9까지 리스트를 미리 지정\n",
        "  promising = [1,2,3,4,5,6,7,8,9]\n",
        "\n",
        "  for k in range(9):\n",
        "    # 같은 행에 1부터 9까지 수 중에 있는 것을 제거\n",
        "    if board[i][k] in promising:\n",
        "      promising.remove( board[i][k] )\n",
        "    # 같은 열에 1부터 9까지 수 중에 있는 것을 제거\n",
        "    if board[k][j] in promising:\n",
        "      promising.remove( board[k][j] )\n",
        "    \n",
        "    # 0이 포함되어 있는 3x3 칸 안의 수를 고려\n",
        "  i //= 3\n",
        "  j //= 3\n",
        "  for p in range( (i*3), (i+1)*3 ):\n",
        "    for q in range( (j*3), (j+1)*3 ):\n",
        "      if board[p][q] in promising:\n",
        "        promising.remove( board[p][q] )\n",
        "\n",
        "  return promising\n",
        "\n",
        "# 이미 답이 지정된 경우 다른 답이 있어도 넘어가도록 변수 설정\n",
        "flag = False\n",
        "def DFS(depth):\n",
        "  global flag\n",
        "  # 이미 답이 지정되었다면 넘어감\n",
        "  if flag:\n",
        "    return\n",
        "  \n",
        "  # 0의 수만큼 채워넣었다면 flag를 True로 바꾼 후 보드의 행을 모두 출력\n",
        "  if depth == len(zeros):\n",
        "    for row in board:\n",
        "      print(*row)\n",
        "    flag = True\n",
        "    return\n",
        "\n",
        "  else:\n",
        "    (i, j) = zeros[depth]\n",
        "\n",
        "    # promising : 채워 넣을 수 있는 수의 리스트\n",
        "    promising = is_promising(i, j)\n",
        "    \n",
        "    # 첫번째 수를 먼저 넣어보고 다른 행 검사\n",
        "    # 안되면 다시 0으로 바꾼 후 다른 수로 채워넣고 다른 행 검사\n",
        "    for num in promising:\n",
        "      board[i][j] = num\n",
        "      DFS(depth + 1)\n",
        "      board[i][j] = 0\n",
        "\n",
        "DFS(0)"
      ],
      "execution_count": null,
      "outputs": []
    }
  ]
}