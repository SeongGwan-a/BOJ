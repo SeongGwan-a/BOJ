{
  "nbformat": 4,
  "nbformat_minor": 0,
  "metadata": {
    "colab": {
      "name": "210809_1149_S.ipynb",
      "provenance": [],
      "collapsed_sections": [],
      "authorship_tag": "ABX9TyMK09mOvb8s5f8P1mXNXhIk",
      "include_colab_link": true
    },
    "kernelspec": {
      "name": "python3",
      "display_name": "Python 3"
    },
    "language_info": {
      "name": "python"
    }
  },
  "cells": [
    {
      "cell_type": "markdown",
      "metadata": {
        "id": "view-in-github",
        "colab_type": "text"
      },
      "source": [
        "<a href=\"https://colab.research.google.com/github/tjdrhks0808/BOJ/blob/main/210809_1149_S.ipynb\" target=\"_parent\"><img src=\"https://colab.research.google.com/assets/colab-badge.svg\" alt=\"Open In Colab\"/></a>"
      ]
    },
    {
      "cell_type": "markdown",
      "metadata": {
        "id": "eVniZDwK49fi"
      },
      "source": [
        "# BOJ 1149\n",
        "> RGB거리\n",
        "\n",
        "RGB거리에는 집이 N개 있다. 거리는 선분으로 나타낼 수 있고, 1번 집부터 N번 집이 순서대로 있다.\n",
        "\n",
        "집은 빨강, 초록, 파랑 중 하나의 색으로 칠해야 한다. 각각의 집을 빨강, 초록, 파랑으로 칠하는 비용이 주어졌을 때, 아래 규칙을 만족하면서 모든 집을 칠하는 비용의 최솟값을 구해보자.\n",
        "\n",
        " - 1번 집의 색은 2번 집의 색과 같지 않아야 한다.\n",
        " - N번 집의 색은 N-1번 집의 색과 같지 않아야 한다.\n",
        " - i(2 ≤ i ≤ N-1)번 집의 색은 i-1번, i+1번 집의 색과 같지 않아야 한다.\n",
        "\n",
        " https://www.acmicpc.net/problem/1149\n"
      ]
    },
    {
      "cell_type": "code",
      "metadata": {
        "colab": {
          "base_uri": "https://localhost:8080/"
        },
        "id": "u0OQhzWI0-4U",
        "outputId": "3b10343f-58e7-4663-e172-a7b173016146"
      },
      "source": [
        "import sys\n",
        "N = int(input()) #sys.stdin.readline\n",
        "\n",
        "cost = []\n",
        "for _ in range(N):\n",
        "  cost.append( list( map( int, input().split() ) ) )  #sys.stdin.readline\n",
        "\n",
        "for i in range(1, N):\n",
        "  cost[i][0] = min( cost[i-1][1], cost[i-1][2] ) + cost[i][0]\n",
        "  cost[i][1] = min( cost[i-1][0], cost[i-1][2] ) + cost[i][1]\n",
        "  cost[i][2] = min( cost[i-1][1], cost[i-1][0] ) + cost[i][2]\n",
        "\n",
        "print(min(cost[N-1]))"
      ],
      "execution_count": 1,
      "outputs": [
        {
          "output_type": "stream",
          "text": [
            "3\n",
            "26 40 83\n",
            "49 60 57\n",
            "13 89 99\n",
            "96\n"
          ],
          "name": "stdout"
        }
      ]
    }
  ]
}