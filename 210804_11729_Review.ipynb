{
  "nbformat": 4,
  "nbformat_minor": 0,
  "metadata": {
    "colab": {
      "name": "210804_11729_Review.ipynb",
      "provenance": [],
      "collapsed_sections": [],
      "authorship_tag": "ABX9TyO7nq2j0Zzz8+ieq8X96iYY",
      "include_colab_link": true
    },
    "kernelspec": {
      "name": "python3",
      "display_name": "Python 3"
    },
    "language_info": {
      "name": "python"
    }
  },
  "cells": [
    {
      "cell_type": "markdown",
      "metadata": {
        "id": "view-in-github",
        "colab_type": "text"
      },
      "source": [
        "<a href=\"https://colab.research.google.com/github/tjdrhks0808/BOJ/blob/main/210804_11729_Review.ipynb\" target=\"_parent\"><img src=\"https://colab.research.google.com/assets/colab-badge.svg\" alt=\"Open In Colab\"/></a>"
      ]
    },
    {
      "cell_type": "markdown",
      "metadata": {
        "id": "9jwlgbUMFjO2"
      },
      "source": [
        "# BOJ 11729\n",
        "> 하노이 탑 이동 순서\n",
        "\n",
        "\n",
        "---\n",
        "\n",
        "세 개의 장대가 있고 첫 번째 장대에는 반경이 서로 다른 n개의 원판이 쌓여 있다. 각 원판은 반경이 큰 순서대로 쌓여있다. 이제 수도승들이 다음 규칙에 따라 첫 번째 장대에서 세 번째 장대로 옮기려 한다.\n",
        "\n",
        "1. 한 번에 한 개의 원판만을 다른 탑으로 옮길 수 있다.\n",
        "2. 쌓아 놓은 원판은 항상 위의 것이 아래의 것보다 작아야 한다.\n",
        "\n",
        "이 작업을 수행하는데 필요한 이동 순서를 출력하는 프로그램을 작성하라. 단, 이동 횟수는 최소가 되어야 한다.\n",
        "\n",
        "https://www.acmicpc.net/problem/11729\n",
        "\n"
      ]
    },
    {
      "cell_type": "code",
      "metadata": {
        "colab": {
          "base_uri": "https://localhost:8080/"
        },
        "id": "kLyGS4wHFdNu",
        "outputId": "e015ec88-21cf-40c1-b4f8-241023a4ff46"
      },
      "source": [
        "def hanoi(N, a, b, c):                # hanoi(원판개수, 기둥1, 기둥2, 기둥3)\n",
        "  if N == 1:                          # 원판이 한개일 때,  => 재귀함수 핵심\n",
        "    move.append([a,c])                # 기둥1에서 기둥3으로 옮기기\n",
        "  else:\n",
        "    hanoi(N-1, a, c, b)               # 가장 아래의 큰 원판을 기둥3으로 옮기기 위해서는 위의 N-1개를 기둥2로 옮겨야 한다.\n",
        "    move.append([a,c])                # N-1개를 다 옮긴 후 마지막 원판을 기둥3으로 옮기는 이동 추가\n",
        "    hanoi(N-1, b, a, c)               # 기둥2로 옮겼던 원판들을 다시 기둥3으로 옮기면 완료\n",
        "\n",
        "move =[]\n",
        "hanoi(int(input()), 1, 2, 3)\n",
        "\n",
        "print(len(move))\n",
        "print('\\n'.join([' '.join(str(i) for i in row) for row in move]))"
      ],
      "execution_count": null,
      "outputs": [
        {
          "output_type": "stream",
          "text": [
            "5\n",
            "31\n",
            "1 3\n",
            "1 2\n",
            "3 2\n",
            "1 3\n",
            "2 1\n",
            "2 3\n",
            "1 3\n",
            "1 2\n",
            "3 2\n",
            "3 1\n",
            "2 1\n",
            "3 2\n",
            "1 3\n",
            "1 2\n",
            "3 2\n",
            "1 3\n",
            "2 1\n",
            "2 3\n",
            "1 3\n",
            "2 1\n",
            "3 2\n",
            "3 1\n",
            "2 1\n",
            "2 3\n",
            "1 3\n",
            "1 2\n",
            "3 2\n",
            "1 3\n",
            "2 1\n",
            "2 3\n",
            "1 3\n"
          ],
          "name": "stdout"
        }
      ]
    }
  ]
}