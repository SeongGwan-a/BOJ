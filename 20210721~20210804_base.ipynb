{
  "nbformat": 4,
  "nbformat_minor": 0,
  "metadata": {
    "colab": {
      "name": "백준 매일 풀기.ipynb",
      "provenance": [],
      "collapsed_sections": [
        "gegSZlsc_d3e",
        "MQF0xIQK_hVP",
        "rXBkbbf4xMTC",
        "cUzwdajKwcbq",
        "WVYauowp5I9m",
        "kBYGgcVKOoCz"
      ],
      "authorship_tag": "ABX9TyNFV7sAkmCBoV3WQfmEkLXS",
      "include_colab_link": true
    },
    "kernelspec": {
      "display_name": "Python 3",
      "name": "python3"
    },
    "language_info": {
      "name": "python"
    }
  },
  "cells": [
    {
      "cell_type": "markdown",
      "metadata": {
        "id": "view-in-github",
        "colab_type": "text"
      },
      "source": [
        "<a href=\"https://colab.research.google.com/github/tjdrhks0808/BOJ/blob/main/20210721~20210804_base.ipynb\" target=\"_parent\"><img src=\"https://colab.research.google.com/assets/colab-badge.svg\" alt=\"Open In Colab\"/></a>"
      ]
    },
    {
      "cell_type": "markdown",
      "metadata": {
        "id": "gegSZlsc_d3e"
      },
      "source": [
        "# 21.07.21"
      ]
    },
    {
      "cell_type": "code",
      "metadata": {
        "id": "mD6ZAA6EwFsZ",
        "colab": {
          "base_uri": "https://localhost:8080/"
        },
        "outputId": "429b09e1-4444-4f76-93b4-baa93eef2da1"
      },
      "source": [
        "N = int(input())\n",
        "\n",
        "for i in range(9):\n",
        "  print(N, \" * \", i+1, \" = \", N*(i+1))"
      ],
      "execution_count": null,
      "outputs": [
        {
          "output_type": "stream",
          "text": [
            "2\n",
            "2  *  1  =  2\n",
            "2  *  2  =  4\n",
            "2  *  3  =  6\n",
            "2  *  4  =  8\n",
            "2  *  5  =  10\n",
            "2  *  6  =  12\n",
            "2  *  7  =  14\n",
            "2  *  8  =  16\n",
            "2  *  9  =  18\n"
          ],
          "name": "stdout"
        }
      ]
    },
    {
      "cell_type": "code",
      "metadata": {
        "colab": {
          "base_uri": "https://localhost:8080/"
        },
        "id": "JIIIvEdU7yTq",
        "outputId": "9681466e-6fff-4696-ceaa-edd00fc8bcb7"
      },
      "source": [
        "T = int(input())\n",
        "\n",
        "for i in range(T):\n",
        "  a, b = map(int, input().split())\n",
        "  print(a+b)"
      ],
      "execution_count": null,
      "outputs": [
        {
          "output_type": "stream",
          "text": [
            "5\n",
            "1 1\n",
            "2\n",
            "2 3\n",
            "5\n",
            "3 4\n",
            "7\n",
            "9 8\n",
            "17\n",
            "5 2\n",
            "7\n"
          ],
          "name": "stdout"
        }
      ]
    },
    {
      "cell_type": "code",
      "metadata": {
        "colab": {
          "base_uri": "https://localhost:8080/"
        },
        "id": "Cg9lpG008gM3",
        "outputId": "32226661-2f97-418f-ad34-4ccadf75d701"
      },
      "source": [
        "n = int(input())\n",
        "\n",
        "sum = 0\n",
        "for i in range(n):\n",
        "  sum += i+1\n",
        "\n",
        "print(sum)"
      ],
      "execution_count": null,
      "outputs": [
        {
          "output_type": "stream",
          "text": [
            "5\n",
            "15\n"
          ],
          "name": "stdout"
        }
      ]
    },
    {
      "cell_type": "code",
      "metadata": {
        "id": "_D_1bQJr9DtA"
      },
      "source": [
        "import sys\n",
        "\n",
        "T = int(input())\n",
        "\n",
        "for i in range(T):\n",
        "  a, b = map(int, sys.stdin.readline().split())\n",
        "  print(a+b)"
      ],
      "execution_count": null,
      "outputs": []
    },
    {
      "cell_type": "code",
      "metadata": {
        "colab": {
          "base_uri": "https://localhost:8080/"
        },
        "id": "XXFl3mLJ-mqX",
        "outputId": "87f71f58-162e-4f1a-d531-68360193c20c"
      },
      "source": [
        "N = int(input())\n",
        "\n",
        "for i in range(N):\n",
        "  print(i+1)"
      ],
      "execution_count": null,
      "outputs": [
        {
          "output_type": "stream",
          "text": [
            "5\n",
            "1\n",
            "2\n",
            "3\n",
            "4\n",
            "5\n"
          ],
          "name": "stdout"
        }
      ]
    },
    {
      "cell_type": "code",
      "metadata": {
        "colab": {
          "base_uri": "https://localhost:8080/"
        },
        "id": "J5Z64k5o-8QX",
        "outputId": "63bd718a-b91d-4c62-b2bc-cd0241649111"
      },
      "source": [
        "N = int(input())\n",
        "\n",
        "for i in range(N, 0, -1):\n",
        "  print(i)"
      ],
      "execution_count": null,
      "outputs": [
        {
          "output_type": "stream",
          "text": [
            "5\n",
            "5\n",
            "4\n",
            "3\n",
            "2\n",
            "1\n"
          ],
          "name": "stdout"
        }
      ]
    },
    {
      "cell_type": "code",
      "metadata": {
        "colab": {
          "base_uri": "https://localhost:8080/"
        },
        "id": "2h1QlyY7_YzS",
        "outputId": "df5f1e4b-db5f-48a0-8d1c-1f6e9d9a6556"
      },
      "source": [
        "T = int(input())\n",
        "\n",
        "for i in range(T):\n",
        "  a, b = map(int, input().split())\n",
        "  print(\"Case #%d:\" %(i+1), a+b)"
      ],
      "execution_count": null,
      "outputs": [
        {
          "output_type": "stream",
          "text": [
            "5\n",
            "1 1\n",
            "Case #1: 2\n",
            "2 2\n",
            "Case #2: 4\n",
            "3 3\n",
            "Case #3: 6\n",
            "9 8\n",
            "Case #4: 17\n",
            "11 17\n",
            "Case #5: 28\n"
          ],
          "name": "stdout"
        }
      ]
    },
    {
      "cell_type": "code",
      "metadata": {
        "colab": {
          "base_uri": "https://localhost:8080/"
        },
        "id": "wYfMPa1ZAiaP",
        "outputId": "d7e267ec-fca9-40d6-eb0d-ccdfb0e3c695"
      },
      "source": [
        "T = int(input())\n",
        "\n",
        "for i in range(T):\n",
        "  a, b = map(int, input().split())\n",
        "  print(\"Case #{0}: {1} + {2} = {3}\".format(i+1, a, b, a+b))"
      ],
      "execution_count": null,
      "outputs": [
        {
          "output_type": "stream",
          "text": [
            "5\n",
            "1 1\n",
            "Case #1: 1 + 1 = 2\n",
            "2 3\n",
            "Case #2: 2 + 3 = 5\n",
            "3 4\n",
            "Case #3: 3 + 4 = 7\n",
            "9 8\n",
            "Case #4: 9 + 8 = 17\n",
            "5 2\n",
            "Case #5: 5 + 2 = 7\n"
          ],
          "name": "stdout"
        }
      ]
    },
    {
      "cell_type": "code",
      "metadata": {
        "colab": {
          "base_uri": "https://localhost:8080/"
        },
        "id": "uzf4yDQDBfRY",
        "outputId": "144d20c8-5eb2-41b0-d9e4-a84fc956e8a1"
      },
      "source": [
        "N = int(input())\n",
        "\n",
        "for i in range(N):\n",
        "  print('{:<5}'.format(\"*\" * (i+1)))\n",
        "\n",
        "# 빈칸이 남음"
      ],
      "execution_count": null,
      "outputs": [
        {
          "output_type": "stream",
          "text": [
            "5\n",
            "*    \n",
            "**   \n",
            "***  \n",
            "**** \n",
            "*****\n"
          ],
          "name": "stdout"
        }
      ]
    },
    {
      "cell_type": "code",
      "metadata": {
        "colab": {
          "base_uri": "https://localhost:8080/"
        },
        "id": "ziJyNbvdCkFI",
        "outputId": "ff6596af-ae70-4e53-a12d-c44a843336c1"
      },
      "source": [
        "N = int(input())\n",
        "\n",
        "for i in range(N):\n",
        "  for j in range(i+1):\n",
        "    print(\"*\", end=\"\")\n",
        "  print(\"\")"
      ],
      "execution_count": null,
      "outputs": [
        {
          "output_type": "stream",
          "text": [
            "5\n",
            "*\n",
            "**\n",
            "***\n",
            "****\n",
            "*****\n"
          ],
          "name": "stdout"
        }
      ]
    },
    {
      "cell_type": "code",
      "metadata": {
        "colab": {
          "base_uri": "https://localhost:8080/"
        },
        "id": "VxZd3erEDBRv",
        "outputId": "5256df2d-0510-45a3-e62a-9bb416499dc2"
      },
      "source": [
        "N = int(input())\n",
        "\n",
        "for i in range(N):\n",
        "    print('{:>5}'.format(\"*\"*(i+1)))"
      ],
      "execution_count": null,
      "outputs": [
        {
          "output_type": "stream",
          "text": [
            "5\n",
            "    *\n",
            "   **\n",
            "  ***\n",
            " ****\n",
            "*****\n"
          ],
          "name": "stdout"
        }
      ]
    },
    {
      "cell_type": "code",
      "metadata": {
        "colab": {
          "base_uri": "https://localhost:8080/"
        },
        "id": "rMMzRbkyDjEu",
        "outputId": "9c1f57b2-9767-43e7-b2fe-5130feeec5fd"
      },
      "source": [
        "N = int(input())\n",
        "\n",
        "for i in range(N):\n",
        "  for j in range(N-i-1):\n",
        "    print(\" \", end=\"\")\n",
        "  for k in range(i+1):\n",
        "    print(\"*\", end=\"\")\n",
        "  print(\"\")"
      ],
      "execution_count": null,
      "outputs": [
        {
          "output_type": "stream",
          "text": [
            "5\n",
            "    *\n",
            "   **\n",
            "  ***\n",
            " ****\n",
            "*****\n"
          ],
          "name": "stdout"
        }
      ]
    },
    {
      "cell_type": "code",
      "metadata": {
        "colab": {
          "base_uri": "https://localhost:8080/"
        },
        "id": "4B57ZmPJE_Uf",
        "outputId": "1314bc8b-1929-40f9-978a-dc0a3b492a09"
      },
      "source": [
        "n, x = map(int, input().split())\n",
        "a = input().split()\n",
        "\n",
        "answer=[]\n",
        "for i in range(n):\n",
        "  if int(a[i]) < x:\n",
        "    print(int(a[i]), end=\" \")"
      ],
      "execution_count": null,
      "outputs": [
        {
          "output_type": "stream",
          "text": [
            "10 5\n",
            "1 10 4 9 2 3 8 5 7 6\n",
            "1 4 2 3 "
          ],
          "name": "stdout"
        }
      ]
    },
    {
      "cell_type": "markdown",
      "metadata": {
        "id": "MQF0xIQK_hVP"
      },
      "source": [
        "# 21.07.22"
      ]
    },
    {
      "cell_type": "code",
      "metadata": {
        "colab": {
          "base_uri": "https://localhost:8080/"
        },
        "id": "OYoPqMG3_ic6",
        "outputId": "408a8319-f5b7-40bd-a120-23538e8bd384"
      },
      "source": [
        "a = 1\n",
        "b = 1\n",
        "\n",
        "while a != 0 and b != 0:\n",
        "  a, b = map(int, input().split())\n",
        "  if a == 0 and b == 0:\n",
        "    break\n",
        "  print(a+b)"
      ],
      "execution_count": null,
      "outputs": [
        {
          "output_type": "stream",
          "text": [
            "2 3\n",
            "5\n",
            "5 5\n",
            "10\n",
            "9 8\n",
            "17\n",
            "0 0\n"
          ],
          "name": "stdout"
        }
      ]
    },
    {
      "cell_type": "code",
      "metadata": {
        "colab": {
          "base_uri": "https://localhost:8080/"
        },
        "id": "_oIslMMgAp-O",
        "outputId": "841d99d8-ffd2-4c98-9eb9-37fc2702334c"
      },
      "source": [
        "while True:\n",
        "  try:\n",
        "    a, b = map(int, input().split())\n",
        "    print(a+b)\n",
        "  except:\n",
        "    break"
      ],
      "execution_count": null,
      "outputs": [
        {
          "output_type": "stream",
          "text": [
            "0 5\n"
          ],
          "name": "stdout"
        }
      ]
    },
    {
      "cell_type": "code",
      "metadata": {
        "colab": {
          "base_uri": "https://localhost:8080/"
        },
        "id": "nMC9CLZ9CuMb",
        "outputId": "5443f2ac-779f-406e-db19-3a6d6344a0ee"
      },
      "source": [
        "N = int(input())\n",
        "\n",
        "sum = N//10 + N%10\n",
        "new = (N%10)*10 + sum%10\n",
        "cycle = 1\n",
        "\n",
        "while new != N:\n",
        "\n",
        "  sum = new//10 + new%10\n",
        "  new = (new%10)*10 + sum%10\n",
        "  cycle += 1\n",
        "\n",
        "print(cycle)"
      ],
      "execution_count": null,
      "outputs": [
        {
          "output_type": "stream",
          "text": [
            "26\n",
            "4\n"
          ],
          "name": "stdout"
        }
      ]
    },
    {
      "cell_type": "code",
      "metadata": {
        "colab": {
          "base_uri": "https://localhost:8080/"
        },
        "id": "nq7t3BBadxzP",
        "outputId": "dea6da06-7b90-4758-975d-35204a7aa4cc"
      },
      "source": [
        "N = int(input())\n",
        "a = list(map(int, input().split()))\n",
        "\n",
        "print(min(a), max(a))"
      ],
      "execution_count": null,
      "outputs": [
        {
          "output_type": "stream",
          "text": [
            "5\n",
            "20 10 30 7 5\n",
            "5 30\n"
          ],
          "name": "stdout"
        }
      ]
    },
    {
      "cell_type": "code",
      "metadata": {
        "colab": {
          "base_uri": "https://localhost:8080/"
        },
        "id": "1Mz6KON_et1d",
        "outputId": "630e3cab-4214-42fe-ee6e-f7c1a64ba999"
      },
      "source": [
        "a = []\n",
        "for i in range(9):\n",
        "  a.append(int(input()))\n",
        "\n",
        "print('{}\\n{}'.format(max(a), a.index(max(a))+1))"
      ],
      "execution_count": null,
      "outputs": [
        {
          "output_type": "stream",
          "text": [
            "1\n",
            "2\n",
            "3\n",
            "4\n",
            "5\n",
            "6\n",
            "7\n",
            "8\n",
            "9\n",
            "9\n",
            "9\n"
          ],
          "name": "stdout"
        }
      ]
    },
    {
      "cell_type": "code",
      "metadata": {
        "colab": {
          "base_uri": "https://localhost:8080/"
        },
        "id": "8FKONwKzf_x1",
        "outputId": "3aa26199-fd5a-4efd-e77d-1f706fba1b51"
      },
      "source": [
        "a = int(input())\n",
        "b = int(input())\n",
        "c = int(input())\n",
        "\n",
        "N = str(a*b*c)\n",
        "\n",
        "for i in range(10):\n",
        "  print(N.count(str(i)))"
      ],
      "execution_count": null,
      "outputs": [
        {
          "output_type": "stream",
          "text": [
            "150\n",
            "266\n",
            "427\n",
            "3\n",
            "1\n",
            "0\n",
            "2\n",
            "0\n",
            "0\n",
            "0\n",
            "2\n",
            "0\n",
            "0\n"
          ],
          "name": "stdout"
        }
      ]
    },
    {
      "cell_type": "code",
      "metadata": {
        "colab": {
          "base_uri": "https://localhost:8080/"
        },
        "id": "OMf3jlN-kKpN",
        "outputId": "7352c192-e665-4943-942b-db9c05e3f65c"
      },
      "source": [
        "set(list)"
      ],
      "execution_count": null,
      "outputs": [
        {
          "output_type": "execute_result",
          "data": {
            "text/plain": [
              "{1, 2, 3, 4, 5, 6, 7, 8, 9, 12}"
            ]
          },
          "metadata": {
            "tags": []
          },
          "execution_count": 61
        }
      ]
    },
    {
      "cell_type": "code",
      "metadata": {
        "colab": {
          "base_uri": "https://localhost:8080/"
        },
        "id": "tvhIud8_jB0t",
        "outputId": "930c89f7-04bd-416c-fcc6-384c1eacc2da"
      },
      "source": [
        "list = []\n",
        "for i in range(10):\n",
        "  list.append(int(input())%42)\n",
        "\n",
        "list = set(list)\n",
        "print(len(list))"
      ],
      "execution_count": null,
      "outputs": [
        {
          "output_type": "stream",
          "text": [
            "1\n",
            "2\n",
            "3\n",
            "4\n",
            "5\n",
            "6\n",
            "1\n",
            "8\n",
            "9\n",
            "4\n",
            "8\n"
          ],
          "name": "stdout"
        }
      ]
    },
    {
      "cell_type": "code",
      "metadata": {
        "colab": {
          "base_uri": "https://localhost:8080/"
        },
        "id": "SQOeM2TEmL_N",
        "outputId": "b5534833-c829-49c2-a9dd-bcd468e327b6"
      },
      "source": [
        "N = int(input())\n",
        "a = list(map(int, input().split()))\n",
        "\n",
        "M = max(a)\n",
        "\n",
        "new = []\n",
        "for i in a:\n",
        "  new.append(i/M*100)\n",
        "\n",
        "print(sum(new)/N)"
      ],
      "execution_count": null,
      "outputs": [
        {
          "output_type": "stream",
          "text": [
            "3\n",
            "40 80 60\n",
            "75.0\n"
          ],
          "name": "stdout"
        }
      ]
    },
    {
      "cell_type": "code",
      "metadata": {
        "colab": {
          "base_uri": "https://localhost:8080/"
        },
        "id": "xIKrcyBbnsnB",
        "outputId": "56e2d5db-8b84-40a3-9f1d-8486e8d9b281"
      },
      "source": [
        "N = int(input())\n",
        "\n",
        "for i in range(N):\n",
        "  quiz = list(input())\n",
        "  score_list=[]\n",
        "  if quiz[0] == \"O\":\n",
        "    score_list.append(1)\n",
        "  else:\n",
        "    score_list.append(0)\n",
        "\n",
        "  for j in range(1, len(quiz)):\n",
        "    if quiz[j] == \"O\":\n",
        "      score_list.append(score_list[j-1]+1)\n",
        "    else:\n",
        "      score_list.append(0)\n",
        "\n",
        "  print(sum(score_list))"
      ],
      "execution_count": null,
      "outputs": [
        {
          "output_type": "stream",
          "text": [
            "5\n",
            "OOXXOXXOOO\n",
            "10\n",
            "OOXXOOXXOO\n",
            "9\n",
            "OXOXOXOXOXOXOX\n",
            "7\n",
            "OOOOOOOOOO\n",
            "55\n",
            "OOOOXOOOOXOOOOX\n",
            "30\n"
          ],
          "name": "stdout"
        }
      ]
    },
    {
      "cell_type": "code",
      "metadata": {
        "colab": {
          "base_uri": "https://localhost:8080/"
        },
        "id": "vOX2xl-HqbmG",
        "outputId": "5d6439f4-3209-4369-a642-4c6171cdf002"
      },
      "source": [
        "C = int(input())\n",
        "\n",
        "for i in range(C):\n",
        "  a = list(map(int, input().split()))\n",
        "  number = a[0]\n",
        "  avg = sum(a[1:])/number\n",
        "  cnt = 0\n",
        "  for j in range(1, len(a)):\n",
        "    if a[j] > avg:\n",
        "      cnt += 1\n",
        "  ratio = cnt/number*100\n",
        "\n",
        "  print('{:.3f}%'.format(ratio))"
      ],
      "execution_count": null,
      "outputs": [
        {
          "output_type": "stream",
          "text": [
            "5\n",
            "5 50 50 70 80 100\n",
            "40.000%\n",
            "7 100 95 90 80 70 60 50\n",
            "57.143%\n",
            "3 70 90 80\n",
            "33.333%\n",
            "3 70 90 81\n",
            "66.667%\n",
            "9 100 99 98 97 96 95 94 93 91\n",
            "55.556%\n"
          ],
          "name": "stdout"
        }
      ]
    },
    {
      "cell_type": "code",
      "metadata": {
        "id": "z_PrB-bAu8Tk"
      },
      "source": [
        "def solve(a):\n",
        "  ans = sum(a)\n",
        "  return ans"
      ],
      "execution_count": null,
      "outputs": []
    },
    {
      "cell_type": "code",
      "metadata": {
        "id": "r8V_DiPgyPys"
      },
      "source": [
        "full = set(range(1,10001))\n",
        "remove_set = set()\n",
        "\n",
        "for number in full:\n",
        "  n_self_num = number + sum(map(int, str(number)))\n",
        "  remove_set.add(n_self_num)\n",
        "\n",
        "self_number_set = full - remove_set\n",
        "for i in sorted(self_number_set):\n",
        "  print(i)"
      ],
      "execution_count": null,
      "outputs": []
    },
    {
      "cell_type": "code",
      "metadata": {
        "colab": {
          "base_uri": "https://localhost:8080/"
        },
        "id": "MsnGj7b00Q-U",
        "outputId": "0fa77bb0-1117-4304-cc50-5df6a7e52a98"
      },
      "source": [
        "N = int(input())\n",
        "\n",
        "full = list(range(1,N+1))\n",
        "cnt = 0\n",
        "\n",
        "for i in full:\n",
        "  if len(str(i)) <= 2:\n",
        "    cnt += 1\n",
        "  elif len(str(i)) == 3:\n",
        "    if (int(str(i)[1]) - int(str(i)[0])) == (int(str(i)[2]) - int(str(i)[1])):\n",
        "      cnt += 1\n",
        "  \n",
        "print(cnt)"
      ],
      "execution_count": null,
      "outputs": [
        {
          "output_type": "stream",
          "text": [
            "1000\n",
            "144\n"
          ],
          "name": "stdout"
        }
      ]
    },
    {
      "cell_type": "markdown",
      "metadata": {
        "id": "rXBkbbf4xMTC"
      },
      "source": [
        "#21.07.28"
      ]
    },
    {
      "cell_type": "code",
      "metadata": {
        "colab": {
          "base_uri": "https://localhost:8080/"
        },
        "id": "dwDr7GrmxOCB",
        "outputId": "f64cbd8b-f418-4158-c99a-792fe2c9a262"
      },
      "source": [
        "a = input()\n",
        "print(ord(a))"
      ],
      "execution_count": null,
      "outputs": [
        {
          "output_type": "stream",
          "text": [
            "C\n"
          ],
          "name": "stdout"
        },
        {
          "output_type": "execute_result",
          "data": {
            "text/plain": [
              "67"
            ]
          },
          "metadata": {
            "tags": []
          },
          "execution_count": 7
        }
      ]
    },
    {
      "cell_type": "code",
      "metadata": {
        "colab": {
          "base_uri": "https://localhost:8080/"
        },
        "id": "jghzS8MexaSj",
        "outputId": "2c12a446-674c-435c-b0e8-dc8b369b8fed"
      },
      "source": [
        "N = int(input())\n",
        "num = input()\n",
        "\n",
        "sum=0\n",
        "for i in range(len(num)):\n",
        "  sum += int(num[i])\n",
        "\n",
        "print(sum)"
      ],
      "execution_count": null,
      "outputs": [
        {
          "output_type": "stream",
          "text": [
            "5\n",
            "54321\n",
            "15\n"
          ],
          "name": "stdout"
        }
      ]
    },
    {
      "cell_type": "code",
      "metadata": {
        "id": "Ikypa6RwyL8v"
      },
      "source": [
        "S = input()\n",
        "alphabet = list(range(97,123))\n",
        "\n",
        "for i in alphabet:\n",
        "  print(S.find(chr(i)))"
      ],
      "execution_count": null,
      "outputs": []
    },
    {
      "cell_type": "code",
      "metadata": {
        "colab": {
          "base_uri": "https://localhost:8080/"
        },
        "id": "2BeUvTyAzS45",
        "outputId": "a28cf0ec-5166-4346-879e-5e86ee873d74"
      },
      "source": [
        "T = int(input())\n",
        "\n",
        "for j in range(T):\n",
        "  R, S = input().split()\n",
        "  text = \"\"\n",
        "  for i in S:\n",
        "    text += i * int(R)\n",
        "  print(text)"
      ],
      "execution_count": null,
      "outputs": [
        {
          "output_type": "stream",
          "text": [
            "2\n",
            "3 ABC\n",
            "AAABBBCCC\n",
            "5 /HTP\n",
            "/////HHHHHTTTTTPPPPP\n"
          ],
          "name": "stdout"
        }
      ]
    },
    {
      "cell_type": "code",
      "metadata": {
        "colab": {
          "base_uri": "https://localhost:8080/"
        },
        "id": "st9GVqby1paj",
        "outputId": "3a077a92-3768-4130-db0f-250156520aa3"
      },
      "source": [
        "S = input().lower()\n",
        "word_list = list(set(S))\n",
        "\n",
        "cnt = []\n",
        "for i in word_list:\n",
        "  cnt.append(S.count(i))\n",
        "\n",
        "if cnt.count(max(cnt)) >= 2:\n",
        "  print(\"?\")\n",
        "else:\n",
        "  max_idx = cnt.index(max(cnt))\n",
        "  print(  word_list[max_idx].upper()  )"
      ],
      "execution_count": null,
      "outputs": [
        {
          "output_type": "stream",
          "text": [
            "aaaae\n",
            "A\n"
          ],
          "name": "stdout"
        }
      ]
    },
    {
      "cell_type": "code",
      "metadata": {
        "colab": {
          "base_uri": "https://localhost:8080/"
        },
        "id": "_6yxSgFj54lV",
        "outputId": "41144f07-1cf1-46f5-b37a-61bb03151aae"
      },
      "source": [
        "S = list(input().split())\n",
        "print(len(S))"
      ],
      "execution_count": null,
      "outputs": [
        {
          "output_type": "stream",
          "text": [
            "Teullinika Teullyeotzi\n",
            "2\n"
          ],
          "name": "stdout"
        }
      ]
    },
    {
      "cell_type": "code",
      "metadata": {
        "colab": {
          "base_uri": "https://localhost:8080/"
        },
        "id": "ckREgxYO6y7_",
        "outputId": "c2f61804-a986-41d2-db4b-b9322a4723b3"
      },
      "source": [
        "A, B = input().split()\n",
        "\n",
        "new_A = A[2] + A[1] + A[0] # new_A[::-1] -> 역순 배열\n",
        "new_B = B[2] + B[1] + B[0]\n",
        "\n",
        "if int(new_A) > int(new_B):\n",
        "  print(int(new_A))\n",
        "else:\n",
        "  print(int(new_B))"
      ],
      "execution_count": null,
      "outputs": [
        {
          "output_type": "stream",
          "text": [
            "839 237\n",
            "938\n"
          ],
          "name": "stdout"
        }
      ]
    },
    {
      "cell_type": "code",
      "metadata": {
        "colab": {
          "base_uri": "https://localhost:8080/"
        },
        "id": "efyIUr0L8Eip",
        "outputId": "e632af9f-2bed-4495-845d-9ab909295553"
      },
      "source": [
        "S = input()\n",
        "dial = ['ABC', 'DEF', 'GHI', 'JKL', 'MNO', 'PQRS', 'TUV', 'WXYZ']\n",
        "\n",
        "sec = 0\n",
        "for i in S:\n",
        "  for j in dial:\n",
        "    if i in j:\n",
        "      sec += dial.index(j)+3\n",
        "    \n",
        "print(sec)"
      ],
      "execution_count": null,
      "outputs": [
        {
          "output_type": "stream",
          "text": [
            "WA\n",
            "13\n"
          ],
          "name": "stdout"
        }
      ]
    },
    {
      "cell_type": "code",
      "metadata": {
        "colab": {
          "base_uri": "https://localhost:8080/"
        },
        "id": "1ST8-wYtRcrQ",
        "outputId": "ce9aef8b-7c46-4cc5-8acd-6bd04e95f682"
      },
      "source": [
        "alphabet = ['c=', 'c-', 'dz=', 'd-', 'lj', 'nj', 's=', 'z=']\n",
        "a = input()\n",
        "\n",
        "for i in alphabet:\n",
        "  a = a.replace(i, \"*\")\n",
        "\n",
        "print(len(a))"
      ],
      "execution_count": null,
      "outputs": [
        {
          "output_type": "stream",
          "text": [
            "ljes=njak\n",
            "6\n"
          ],
          "name": "stdout"
        }
      ]
    },
    {
      "cell_type": "code",
      "metadata": {
        "colab": {
          "base_uri": "https://localhost:8080/"
        },
        "id": "FAfk9UQZFNKP",
        "outputId": "69e8b12d-5033-40d1-a59b-399baaca73bb"
      },
      "source": [
        "N = int(input())\n",
        "\n",
        "True_group = 0\n",
        "for i in range(N):\n",
        "  word = input()\n",
        "  not_group = 0\n",
        "  for j in range(len(word)-1):\n",
        "    if word[j] != word[j+1]:\n",
        "      if word[j+1:].count(word[j]) > 0 :\n",
        "        not_group = 1\n",
        "        break\n",
        "  if not_group == 0:\n",
        "    True_group += 1\n",
        "\n",
        "print(True_group)"
      ],
      "execution_count": null,
      "outputs": [
        {
          "output_type": "stream",
          "text": [
            "4\n",
            "aba\n",
            "aa\n",
            "abbba\n",
            "abab\n",
            "1\n"
          ],
          "name": "stdout"
        }
      ]
    },
    {
      "cell_type": "code",
      "metadata": {
        "colab": {
          "base_uri": "https://localhost:8080/"
        },
        "id": "FhlAaev4H4EF",
        "outputId": "d0b3d54d-e51e-4b1e-8981-3a589b8f2fb3"
      },
      "source": [
        "A, B, C = map(int, input().split())\n",
        "\n",
        "if B >= C:\n",
        "  print(-1)\n",
        "else:\n",
        "  print(int(A/(C-B) + 1))"
      ],
      "execution_count": null,
      "outputs": [
        {
          "output_type": "stream",
          "text": [
            "2100000000 9 10\n",
            "2100000001\n"
          ],
          "name": "stdout"
        }
      ]
    },
    {
      "cell_type": "code",
      "metadata": {
        "colab": {
          "base_uri": "https://localhost:8080/"
        },
        "id": "vjvBBvWVKROW",
        "outputId": "d183e0a1-dee4-4568-8169-2ad5f318d6b8"
      },
      "source": [
        "N = int(input())\n",
        "\n",
        "cnt = 1\n",
        "add_num = 6\n",
        "num = 1\n",
        "while N > num:\n",
        "  cnt += 1\n",
        "  num += add_num\n",
        "  add_num += 6\n",
        "\n",
        "print(cnt)"
      ],
      "execution_count": null,
      "outputs": [
        {
          "output_type": "stream",
          "text": [
            "66\n",
            "6\n"
          ],
          "name": "stdout"
        }
      ]
    },
    {
      "cell_type": "code",
      "metadata": {
        "colab": {
          "base_uri": "https://localhost:8080/"
        },
        "id": "kQofam18NOQ_",
        "outputId": "11723c68-9974-43ed-aedb-bc5e6118b965"
      },
      "source": [
        "X = int(input())\n",
        "\n",
        "line = 0\n",
        "cnt = 0\n",
        "\n",
        "while X > cnt:\n",
        "  line += 1\n",
        "  cnt += line\n",
        "\n",
        "gap = cnt - X\n",
        "\n",
        "if line % 2 == 0:\n",
        "  top = line-gap\n",
        "  under = gap + 1\n",
        "else :\n",
        "  top = gap + 1\n",
        "  under = line - gap\n",
        "\n",
        "print('{}/{}'.format(top, under))"
      ],
      "execution_count": null,
      "outputs": [
        {
          "output_type": "stream",
          "text": [
            "14\n",
            "2/4\n"
          ],
          "name": "stdout"
        }
      ]
    },
    {
      "cell_type": "code",
      "metadata": {
        "colab": {
          "base_uri": "https://localhost:8080/"
        },
        "id": "Zg4VZ3tzQeDh",
        "outputId": "9fb7a07c-138b-4b84-ee42-bc0ceffd6a25"
      },
      "source": [
        "A, B, V = map(int, input().split())\n",
        "\n",
        "day = (V-B) / (A-B)\n",
        "\n",
        "if day == int(day):\n",
        "  print(int(day))\n",
        "else: print(int(day)+1)"
      ],
      "execution_count": null,
      "outputs": [
        {
          "output_type": "stream",
          "text": [
            "100 99 1000000000\n",
            "999999901\n"
          ],
          "name": "stdout"
        }
      ]
    },
    {
      "cell_type": "markdown",
      "metadata": {
        "id": "cUzwdajKwcbq"
      },
      "source": [
        "# 21.07.29"
      ]
    },
    {
      "cell_type": "code",
      "metadata": {
        "colab": {
          "base_uri": "https://localhost:8080/"
        },
        "id": "4XRBuZdHwdpq",
        "outputId": "7bba1edb-326a-43d7-d6c0-7cc0b63683b8"
      },
      "source": [
        "T = int(input())\n",
        "\n",
        "for i in range(T):\n",
        "  H, W, N = map(int, input().split())\n",
        "  floor = N%H\n",
        "  room = N//H + 1\n",
        "  if floor == 0:\n",
        "    floor = H\n",
        "    room = N//H\n",
        "  print(floor*100 + room)"
      ],
      "execution_count": null,
      "outputs": [
        {
          "output_type": "stream",
          "text": [
            "2\n",
            "6 12 10\n",
            "402\n",
            "30 50 72\n",
            "1203\n"
          ],
          "name": "stdout"
        }
      ]
    },
    {
      "cell_type": "code",
      "metadata": {
        "colab": {
          "base_uri": "https://localhost:8080/"
        },
        "id": "JAVWtWDR5046",
        "outputId": "226ffc74-b66a-44ee-d091-89bf2481901a"
      },
      "source": [
        "T = int(input())\n",
        "\n",
        "for i in range(T):\n",
        "  k = int(input())\n",
        "  n = int(input())\n",
        "  num = [x+1 for x in range(n)]\n",
        "  for j in range(k):\n",
        "    for s in range(1, n):\n",
        "      num[s] += num[ s-1 ]\n",
        "  print(num[-1])"
      ],
      "execution_count": null,
      "outputs": [
        {
          "output_type": "stream",
          "text": [
            "2\n",
            "1\n",
            "3\n",
            "6\n",
            "2\n",
            "3\n",
            "10\n"
          ],
          "name": "stdout"
        }
      ]
    },
    {
      "cell_type": "code",
      "metadata": {
        "colab": {
          "base_uri": "https://localhost:8080/"
        },
        "id": "XSZ541hzHxhX",
        "outputId": "d61bf852-2169-4e35-d82d-b84bd17b93af"
      },
      "source": [
        "N = int(input())\n",
        "kg = N\n",
        "\n",
        "five = N // 5\n",
        "three = 0\n",
        "\n",
        "while True:\n",
        "\n",
        "  if five  * 5 == N:\n",
        "    print(five + three) \n",
        "    break\n",
        "  \n",
        "  N -= 3\n",
        "  three += 1\n",
        "  five = N // 5\n",
        "  \n",
        "  if N < 0:\n",
        "    print(-1)\n",
        "    break"
      ],
      "execution_count": null,
      "outputs": [
        {
          "output_type": "stream",
          "text": [
            "4\n",
            "-1\n"
          ],
          "name": "stdout"
        }
      ]
    },
    {
      "cell_type": "code",
      "metadata": {
        "colab": {
          "base_uri": "https://localhost:8080/"
        },
        "id": "uOCV4qr7JOg3",
        "outputId": "f98b4573-6328-4f98-b386-5e1f6bae9054"
      },
      "source": [
        "T = int(input())\n",
        "\n",
        "for _ in range(T):\n",
        "  x, y = map(int, input().split())\n",
        "  move = 1\n",
        "  count = 0\n",
        "  distance = y-x\n",
        "  move_plus = 0\n",
        "  while move_plus < distance :\n",
        "    count += 1\n",
        "    x = x+move\n",
        "    move_plus += move\n",
        "    if count%2 == 0:\n",
        "      move += 1\n",
        "  print(count)"
      ],
      "execution_count": null,
      "outputs": [
        {
          "output_type": "stream",
          "text": [
            "1\n",
            "0 9\n",
            "5\n"
          ],
          "name": "stdout"
        }
      ]
    },
    {
      "cell_type": "code",
      "metadata": {
        "colab": {
          "base_uri": "https://localhost:8080/"
        },
        "id": "ShIljJpLeCBp",
        "outputId": "eaaf83de-f931-412c-efa5-9f5040602a04"
      },
      "source": [
        "N = int(input())\n",
        "\n",
        "num = list(map(int,input().split()))\n",
        "\n",
        "cnt = 0\n",
        "for i in num:\n",
        "  devi = 0\n",
        "  for j in range(1, i+1):\n",
        "    if i % j == 0:\n",
        "       devi += 1\n",
        "  if devi == 2:\n",
        "    cnt += 1\n",
        "    \n",
        "\n",
        "print(cnt)"
      ],
      "execution_count": null,
      "outputs": [
        {
          "output_type": "stream",
          "text": [
            "4\n",
            "1 3 5 7\n",
            "3\n"
          ],
          "name": "stdout"
        }
      ]
    },
    {
      "cell_type": "code",
      "metadata": {
        "colab": {
          "base_uri": "https://localhost:8080/"
        },
        "id": "5Nii8LKujllE",
        "outputId": "6dfbae20-9d1c-4df9-cc53-c816e9e0baeb"
      },
      "source": [
        "M = int(input())\n",
        "N = int(input())\n",
        "\n",
        "full = list(range(M, N+1))\n",
        "TR = []\n",
        "FL = []\n",
        "for i in full:\n",
        "  if i == 1:\n",
        "    FL.append(i)\n",
        "  else:\n",
        "    for j in range(2, i):\n",
        "      if i % j == 0:\n",
        "        FL.append(i)\n",
        "        break\n",
        "    if i not in FL:\n",
        "      TR.append(i)\n",
        "\n",
        "if full == FL:\n",
        "  print(-1)\n",
        "else:\n",
        "  print(sum(TR))\n",
        "  print(min(TR))"
      ],
      "execution_count": null,
      "outputs": [
        {
          "output_type": "stream",
          "text": [
            "1\n",
            "10\n",
            "17\n",
            "2\n"
          ],
          "name": "stdout"
        }
      ]
    },
    {
      "cell_type": "code",
      "metadata": {
        "colab": {
          "base_uri": "https://localhost:8080/"
        },
        "id": "wrAbEgR81ppo",
        "outputId": "08ae1589-34c9-4054-860d-a0d9a16ac8d3"
      },
      "source": [
        "N = int(input())\n",
        "i = 2\n",
        "\n",
        "while N != 1:\n",
        "  if N % i == 0:\n",
        "    N = N/i\n",
        "    print(i)\n",
        "  else: i += 1"
      ],
      "execution_count": null,
      "outputs": [
        {
          "output_type": "stream",
          "text": [
            "72\n",
            "2\n",
            "2\n",
            "2\n",
            "3\n",
            "3\n"
          ],
          "name": "stdout"
        }
      ]
    },
    {
      "cell_type": "code",
      "metadata": {
        "colab": {
          "base_uri": "https://localhost:8080/"
        },
        "id": "jlBVxmTc4jEU",
        "outputId": "9449ed35-7447-47c4-e45e-19d11e92e315"
      },
      "source": [
        "N, M = map(int,input().split())\n",
        "\n",
        "board = []\n",
        "for _ in range(N):\n",
        "  board.append(list(input().rstrip()))\n",
        "\n",
        "dx = [1, -1, 0, 0]\n",
        "dy = [0, 0, 1, -1]\n",
        "# [오른쪽, 왼쪽, 위, 아래] #\n",
        "visited = [   [  [  [False]*M   for _ in range(N)   ]   for _ in range(M)  ]  for _ in range(N)  ]\n",
        "queue = []\n",
        "\n",
        "def init():\n",
        "  R_row, R_col, B_row, B_col = 0, 0, 0, 0\n",
        "\n",
        "  for i in range(N):\n",
        "    for j in range(M):\n",
        "      if board[i][j] == 'R':\n",
        "        R_row, R_col = i, j\n",
        "      if board[i][j] == 'B':\n",
        "        B_row, B_col = i, j\n",
        "\n",
        "  queue.append((R_row, R_col, B_row, B_col, 1))\n",
        "  visited[R_row][R_col][B_row][B_col] = True\n",
        "\n",
        "def move(row, col, dx, dy):\n",
        "  cnt = 0\n",
        "  while board[row + dx][col + dy] != '#' and board[row][col] != 'O':\n",
        "    cnt += 1\n",
        "    row += dx\n",
        "    col += dy\n",
        "  return row, col, cnt\n",
        "\n",
        "def solve():\n",
        "  init()\n",
        "  while queue:\n",
        "    R_row, R_col, B_row, B_col,depth = queue.pop(0)\n",
        "    if depth > 10:\n",
        "      break\n",
        "\n",
        "    for i in range(4):\n",
        "      new_R_row, new_R_col, R_cnt = move(R_row, R_col, dx[i], dy[i])\n",
        "      new_B_row, new_B_col, B_cnt = move(B_row, B_col, dx[i], dy[i])\n",
        "\n",
        "      if board[new_B_row][new_B_col] != '0':\n",
        "\n",
        "        if board[new_R_row][new_R_col] == '0':\n",
        "          print(depth)\n",
        "          return\n",
        "\n",
        "        if new_R_row == new_B_row and new_R_col == new_B_col:\n",
        "          if R_cnt > B_cnt:\n",
        "            new_R_row -= dx[i]\n",
        "            new_R_col -= dy[i]\n",
        "          else:\n",
        "            new_B_row =- dx[i]\n",
        "            new_B_col -= dy[i]\n",
        "        if not visited[new_R_row][new_R_col][new_B_row][new_B_col]:\n",
        "          visited[new_R_row][new_R_col][new_B_row][new_B_col] = True\n",
        "          queue.append([new_R_row, new_R_col, new_B_row, new_B_col, depth+1])\n",
        "  print(-1)\n",
        "\n",
        "solve()"
      ],
      "execution_count": null,
      "outputs": [
        {
          "output_type": "stream",
          "text": [
            "5 5\n",
            "#####\n",
            "#..B#\n",
            "#.#.#\n",
            "#R0.#\n",
            "#####\n",
            "3\n"
          ],
          "name": "stdout"
        }
      ]
    },
    {
      "cell_type": "markdown",
      "metadata": {
        "id": "WVYauowp5I9m"
      },
      "source": [
        "# 21.07.30"
      ]
    },
    {
      "cell_type": "code",
      "metadata": {
        "id": "QrmifHl7DRm4",
        "colab": {
          "base_uri": "https://localhost:8080/"
        },
        "outputId": "0bb2edc5-8f75-433f-8038-ff874ae2ccbc"
      },
      "source": [
        "M, N = map(int, input().split())\n",
        "\n",
        "def isPrime(m, n):\n",
        "  n += 1\n",
        "  prime = [True] * n\n",
        "  for i in range(2, int(n**0.5)+1):\n",
        "    if prime[i] == True :\n",
        "      for j in range(2*i, n, i):\n",
        "        prime[j] = False\n",
        "\n",
        "  for i in range(m,n):\n",
        "    if i > 1 and prime[i] == True :\n",
        "      print(i)\n",
        "\n",
        "isPrime(M, N)"
      ],
      "execution_count": null,
      "outputs": [
        {
          "output_type": "stream",
          "text": [
            "3 16\n",
            "3\n",
            "5\n",
            "7\n",
            "11\n",
            "13\n"
          ],
          "name": "stdout"
        }
      ]
    },
    {
      "cell_type": "code",
      "metadata": {
        "colab": {
          "base_uri": "https://localhost:8080/"
        },
        "id": "oQ_15b5L73JY",
        "outputId": "4237312f-9e3f-4e9d-aa9a-ae774ec8d1af"
      },
      "source": [
        "n = 1\n",
        "\n",
        "def isPrime(n):\n",
        "  prime_list=[]\n",
        "  two_n = 2*n + 1\n",
        "  prime = [True] * two_n\n",
        "  for i in range(2, int(two_n**0.5)+1):\n",
        "    if prime[i] == True :\n",
        "      for j in range(2*i, two_n, i):\n",
        "        prime[j] = False\n",
        "\n",
        "  for i in range(n+1,two_n):\n",
        "    if i > 1 and prime[i] == True :\n",
        "      prime_list.append(i)\n",
        "  \n",
        "  print(len(prime_list))\n",
        "\n",
        "while True:\n",
        "  n = int(input())\n",
        "  if n == 0:\n",
        "    break\n",
        "  else:\n",
        "    isPrime(n)"
      ],
      "execution_count": null,
      "outputs": [
        {
          "output_type": "stream",
          "text": [
            "13\n",
            "3\n",
            "0\n"
          ],
          "name": "stdout"
        }
      ]
    },
    {
      "cell_type": "code",
      "metadata": {
        "colab": {
          "base_uri": "https://localhost:8080/"
        },
        "id": "lDixBotW-iSC",
        "outputId": "a89b3323-11f8-4f2f-edc2-f1f47286e45b"
      },
      "source": [
        "T = int(input())\n",
        "\n",
        "prime_list=[]\n",
        "prime = [True] * 10001\n",
        "for i in range(2, int(10001**0.5)+1):\n",
        "  if prime[i] == True :\n",
        "    for j in range(2*i, 10001, i):\n",
        "      prime[j] = False\n",
        "\n",
        "for i in range(1,10001):\n",
        "  if i > 1 and prime[i] == True :\n",
        "    prime_list.append(i)\n",
        "\n",
        "\n",
        "for i in range(T):\n",
        "  n = int(input())\n",
        "  for j in range(n//2, 1, -1):\n",
        "    if (n-j in prime_list) and (j in prime_list) :\n",
        "      print(j, n-j)\n",
        "      break"
      ],
      "execution_count": null,
      "outputs": [
        {
          "output_type": "stream",
          "text": [
            "1\n",
            "10000\n",
            "4919 5081\n"
          ],
          "name": "stdout"
        }
      ]
    },
    {
      "cell_type": "code",
      "metadata": {
        "colab": {
          "base_uri": "https://localhost:8080/"
        },
        "id": "-RfNTaPvF6lL",
        "outputId": "be836edf-440c-493a-a3e4-ca5e06581ced"
      },
      "source": [
        "x, y, w, h = map(int, input().split())\n",
        "\n",
        "if (w-x >= x) and (h-y >= y):\n",
        "  if x >= y:\n",
        "    print(y)\n",
        "  else: print(x)\n",
        "elif (w-x >= x) and (h-y < y) :\n",
        "  if x >= h-y:\n",
        "    print(h-y)\n",
        "  else: print(x)\n",
        "elif (w-x < x) and (h-y >= y) :\n",
        "  if w-x >= y:\n",
        "    print(y)\n",
        "  else: print(w-x)\n",
        "else:\n",
        "  if w-x >= h-y:\n",
        "    print(h-y)\n",
        "  else: print(w-x)"
      ],
      "execution_count": null,
      "outputs": [
        {
          "output_type": "stream",
          "text": [
            "6 2 10 3\n",
            "1\n"
          ],
          "name": "stdout"
        }
      ]
    },
    {
      "cell_type": "code",
      "metadata": {
        "colab": {
          "base_uri": "https://localhost:8080/"
        },
        "id": "B9exE1RHHWNj",
        "outputId": "7ea5a1d9-4f22-47ab-96ec-6c52b5085260"
      },
      "source": [
        "x1, y1 = map(int, input().split())\n",
        "x2, y2 = map(int, input().split())\n",
        "x3, y3 = map(int, input().split())\n",
        "\n",
        "if x1 == x2:\n",
        "  x4 = x3\n",
        "elif x1 == x3:\n",
        "  x4 = x2\n",
        "else:\n",
        "  x4 = x1\n",
        "\n",
        "if y1 == y2:\n",
        "  y4 = y3\n",
        "elif y1 == y3:\n",
        "  y4 = y2\n",
        "else:\n",
        "  y4 = y1\n",
        "\n",
        "print(x4, y4)"
      ],
      "execution_count": null,
      "outputs": [
        {
          "output_type": "stream",
          "text": [
            "30 20\n",
            "10 10\n",
            "10 20\n",
            "30 10\n"
          ],
          "name": "stdout"
        }
      ]
    },
    {
      "cell_type": "code",
      "metadata": {
        "colab": {
          "base_uri": "https://localhost:8080/"
        },
        "id": "7wEejhx_IjqS",
        "outputId": "f34247b3-76c2-462a-e221-5035a180db13"
      },
      "source": [
        "while True:\n",
        "  len_list = list(map(int, input().split()))\n",
        "  if len_list[0] == 0 and len_list[1] == 0 and len_list[2]== 0:\n",
        "    break\n",
        "  else:\n",
        "    max_idx = len_list.index(max(len_list))\n",
        "    max_val = len_list.pop(max_idx)\n",
        "    if max_val ** 2 == len_list[0] ** 2 + len_list[1] ** 2:\n",
        "      print('right')\n",
        "    else: print('wrong')\n"
      ],
      "execution_count": null,
      "outputs": [
        {
          "output_type": "stream",
          "text": [
            "6 8 10\n",
            "right\n",
            "25 52 60\n",
            "wrong\n",
            "5 12 13\n",
            "right\n",
            "0 0 0\n"
          ],
          "name": "stdout"
        }
      ]
    },
    {
      "cell_type": "code",
      "metadata": {
        "colab": {
          "base_uri": "https://localhost:8080/"
        },
        "id": "ebRND9D6MJDi",
        "outputId": "d5142d34-a3f0-4b3f-d802-e5f0460b1699"
      },
      "source": [
        "import math\n",
        "\n",
        "R = int(input())\n",
        "\n",
        "print( (R**2) * math.pi )\n",
        "print( (2 * R) * R )"
      ],
      "execution_count": null,
      "outputs": [
        {
          "output_type": "stream",
          "text": [
            "42\n",
            "5541.769440932395\n",
            "3528\n"
          ],
          "name": "stdout"
        }
      ]
    },
    {
      "cell_type": "code",
      "metadata": {
        "colab": {
          "base_uri": "https://localhost:8080/"
        },
        "id": "MwVa2CUyNmyD",
        "outputId": "07389b6f-fe49-488a-942a-58def26731e0"
      },
      "source": [
        "T = int(input())\n",
        "\n",
        "for _ in range(T):\n",
        "  x1, y1, r1, x2, y2, r2 = map(int, input().split())\n",
        "  distance = (x1-x2)**2 + (y1-y2)**2\n",
        "\n",
        "  if x1 == x2 and y1 == y2 and r1 == r2:\n",
        "    print(-1)\n",
        "  else:\n",
        "    if distance > ((r1 + r2) ** 2):\n",
        "      print(0)\n",
        "    elif distance == ((r1 + r2) ** 2):\n",
        "      print(1)\n",
        "    elif distance < ((r1 + r2) ** 2):\n",
        "      if distance > ((r1 - r2) ** 2):\n",
        "        print(2)\n",
        "      elif distance == ((r1 - r2) ** 2):\n",
        "        print(1)\n",
        "      else:\n",
        "        print(0)"
      ],
      "execution_count": null,
      "outputs": [
        {
          "output_type": "stream",
          "text": [
            "1\n",
            "1 1 1 1 1 5\n",
            "0\n"
          ],
          "name": "stdout"
        }
      ]
    },
    {
      "cell_type": "code",
      "metadata": {
        "colab": {
          "base_uri": "https://localhost:8080/"
        },
        "id": "If3ygl7FPMAj",
        "outputId": "158d8628-743c-4793-8543-704d3146ce91"
      },
      "source": [
        "def factorial(n):\n",
        "  result = 1\n",
        "  if n > 0:\n",
        "    result = n * factorial(n-1)\n",
        "  return result\n",
        "\n",
        "n = int(input())\n",
        "print(factorial(n))"
      ],
      "execution_count": null,
      "outputs": [
        {
          "output_type": "stream",
          "text": [
            "10\n",
            "3628800\n"
          ],
          "name": "stdout"
        }
      ]
    },
    {
      "cell_type": "code",
      "metadata": {
        "colab": {
          "base_uri": "https://localhost:8080/"
        },
        "id": "kxBK0V2jjstr",
        "outputId": "28b18305-f5f9-46bd-9f25-42e50fedf51d"
      },
      "source": [
        "def fibonacci(n):\n",
        "  if n <= 1:\n",
        "    return n\n",
        "  return fibonacci(n-1) + fibonacci(n-2)\n",
        "\n",
        "n = int(input())\n",
        "print(fibonacci(n))"
      ],
      "execution_count": null,
      "outputs": [
        {
          "output_type": "stream",
          "text": [
            "10\n",
            "55\n"
          ],
          "name": "stdout"
        }
      ]
    },
    {
      "cell_type": "code",
      "metadata": {
        "colab": {
          "base_uri": "https://localhost:8080/"
        },
        "id": "acPYK69Rkerj",
        "outputId": "c4ee33aa-88b1-4204-be7d-042606cf072d"
      },
      "source": [
        "def star(n):\n",
        "  matrix = []\n",
        "  for i in range(3 * len(n)):\n",
        "    if i // len(n) == 1:\n",
        "      matrix.append( n[i % len(n)] + \" \" * len(n) + n[i % len(n)])\n",
        "    else:\n",
        "      matrix.append( n[i % len(n)] * 3)\n",
        "  return matrix\n",
        "\n",
        "stars = [\"***\", \"* *\", \"***\"]\n",
        "\n",
        "n = int(input())\n",
        "e = 0\n",
        "while n != 3:\n",
        "  n = int(n/3)\n",
        "  e += 1\n",
        "\n",
        "for i in range(e):\n",
        "  stars = star(stars)\n",
        "for i in stars:\n",
        "  print(i)"
      ],
      "execution_count": null,
      "outputs": [
        {
          "output_type": "stream",
          "text": [
            "9\n",
            "*********\n",
            "* ** ** *\n",
            "*********\n",
            "***   ***\n",
            "* *   * *\n",
            "***   ***\n",
            "*********\n",
            "* ** ** *\n",
            "*********\n"
          ],
          "name": "stdout"
        }
      ]
    },
    {
      "cell_type": "code",
      "metadata": {
        "colab": {
          "base_uri": "https://localhost:8080/"
        },
        "id": "ZNI9UajMm2sf",
        "outputId": "53cc6ade-5e49-4104-ee2f-f0946eb65268"
      },
      "source": [
        "def hanoi(N, a, b, c):\n",
        "  if N == 1:\n",
        "    move.append([a,c])\n",
        "  else:\n",
        "    hanoi(N-1, a, c, b)\n",
        "    move.append([a,c])\n",
        "    hanoi(N-1, b, a, c)\n",
        "\n",
        "move =[]\n",
        "hanoi(int(input()), 1, 2, 3)\n",
        "\n",
        "print(len(move))\n",
        "print('\\n'.join([' '.join(str(i) for i in row) for row in move]))"
      ],
      "execution_count": null,
      "outputs": [
        {
          "output_type": "stream",
          "text": [
            "5\n",
            "31\n",
            "1 3\n",
            "1 2\n",
            "3 2\n",
            "1 3\n",
            "2 1\n",
            "2 3\n",
            "1 3\n",
            "1 2\n",
            "3 2\n",
            "3 1\n",
            "2 1\n",
            "3 2\n",
            "1 3\n",
            "1 2\n",
            "3 2\n",
            "1 3\n",
            "2 1\n",
            "2 3\n",
            "1 3\n",
            "2 1\n",
            "3 2\n",
            "3 1\n",
            "2 1\n",
            "2 3\n",
            "1 3\n",
            "1 2\n",
            "3 2\n",
            "1 3\n",
            "2 1\n",
            "2 3\n",
            "1 3\n"
          ],
          "name": "stdout"
        }
      ]
    },
    {
      "cell_type": "markdown",
      "metadata": {
        "id": "kBYGgcVKOoCz"
      },
      "source": [
        "# 21.08.02"
      ]
    },
    {
      "cell_type": "code",
      "metadata": {
        "id": "eUcGivG5OpQH"
      },
      "source": [
        "n, m = map(int, input().split())\n",
        "\n",
        "num = list(map(int, input().split()))\n",
        "sum_list = []\n",
        "\n",
        "for i in range(n-2):\n",
        "  for j in range(i+1, n-1):\n",
        "    for k in range(j+1, n):\n",
        "      if (num[i] + num[j] + num[k]) <= m:\n",
        "        sum_list.append(num[i] + num[j] + num[k])\n",
        "\n",
        "print(max(sum_list))"
      ],
      "execution_count": null,
      "outputs": []
    },
    {
      "cell_type": "code",
      "metadata": {
        "colab": {
          "base_uri": "https://localhost:8080/"
        },
        "id": "DSAVGka5VaoD",
        "outputId": "48d2eaaa-6699-4845-9b25-e8ac8e47271e"
      },
      "source": [
        "n = int(input())\n",
        "\n",
        "for i in range(n+1):\n",
        "  digit_num = list(map(int, str(i)))\n",
        "  create_num = i + sum(digit_num)\n",
        "  if create_num == n:\n",
        "    print(i)\n",
        "    break\n",
        "\n",
        "  if i == n:\n",
        "    print(0)"
      ],
      "execution_count": null,
      "outputs": [
        {
          "output_type": "stream",
          "text": [
            "216\n",
            "198\n"
          ],
          "name": "stdout"
        }
      ]
    },
    {
      "cell_type": "code",
      "metadata": {
        "colab": {
          "base_uri": "https://localhost:8080/"
        },
        "id": "ijsFW4vJZGvi",
        "outputId": "718d8196-fad2-471c-8a6d-a64a02a8dc52"
      },
      "source": [
        "n = int(input())\n",
        "\n",
        "full_list = []\n",
        "\n",
        "for i in range(n):\n",
        "  x, y = map(int, input().split())\n",
        "  full_list.append(list([x, y]))\n",
        "\n",
        "rank_list = []\n",
        "for i in range(n):\n",
        "  rank = 1\n",
        "  for j in range(n):\n",
        "    if full_list[i][0] < full_list[j][0] and full_list[i][1] < full_list[j][1]:\n",
        "      rank += 1\n",
        "  rank_list.append(rank)\n",
        "\n",
        "for i in rank_list:\n",
        "  print(i, end=' ')"
      ],
      "execution_count": null,
      "outputs": [
        {
          "output_type": "stream",
          "text": [
            "5\n",
            "55 185\n",
            "58 183\n",
            "88 186\n",
            "60 175\n",
            "46 155\n",
            "2 2 1 2 5 "
          ],
          "name": "stdout"
        }
      ]
    },
    {
      "cell_type": "code",
      "metadata": {
        "colab": {
          "base_uri": "https://localhost:8080/"
        },
        "id": "QXjrmsJ2b4YS",
        "outputId": "9de8b509-4574-47b5-d16b-f5ca8ca21815"
      },
      "source": [
        "n, m = map(int, input().split())\n",
        "\n",
        "board = []\n",
        "for _ in range(n):\n",
        "  board.append(list(input()))\n",
        "\n",
        "cnt_list=[]\n",
        "\n",
        "for i in range(n-7):\n",
        "  for j in range(m-7):\n",
        "    W_first = 0\n",
        "    B_first = 0\n",
        "    for s in range(i, i+8):\n",
        "      for k in range(j, j+8):\n",
        "\n",
        "          if ((s-i)+(k-j)) % 2 == 0:\n",
        "            if board[s][k] != 'W':\n",
        "              W_first += 1\n",
        "            else:\n",
        "              B_first += 1\n",
        "          else:\n",
        "            if board[s][k] != 'B':\n",
        "              W_first += 1\n",
        "            else:\n",
        "              B_first += 1\n",
        "\n",
        "    cnt_list.append(W_first)\n",
        "    cnt_list.append(B_first)\n",
        "\n",
        "print(min(cnt_list))"
      ],
      "execution_count": null,
      "outputs": [
        {
          "output_type": "stream",
          "text": [
            "10 13\n",
            "BBBBBBBBWBWBW\n",
            "BBBBBBBBBWBWB\n",
            "BBBBBBBBWBWBW\n",
            "BBBBBBBBBWBWB\n",
            "BBBBBBBBWBWBW\n",
            "BBBBBBBBBWBWB\n",
            "BBBBBBBBWBWBW\n",
            "BBBBBBBBBWBWB\n",
            "WWWWWWWWWWBWB\n",
            "WWWWWWWWWWBWB\n",
            "12\n"
          ],
          "name": "stdout"
        }
      ]
    },
    {
      "cell_type": "code",
      "metadata": {
        "colab": {
          "base_uri": "https://localhost:8080/"
        },
        "id": "L9Dn_BdzmU_y",
        "outputId": "b8e1cae5-bef4-4e7a-8a8c-92c5de312398"
      },
      "source": [
        "N = int(input())\n",
        "\n",
        "start_num = 666\n",
        "cnt = 0\n",
        "while True:\n",
        "  \n",
        "  if '666' in str(start_num):\n",
        "    cnt += 1\n",
        "\n",
        "  if cnt == N:\n",
        "    break  \n",
        "    \n",
        "  start_num += 1\n",
        "\n",
        "\n",
        "print(start_num)"
      ],
      "execution_count": null,
      "outputs": [
        {
          "output_type": "stream",
          "text": [
            "11\n",
            "6664\n"
          ],
          "name": "stdout"
        }
      ]
    },
    {
      "cell_type": "code",
      "metadata": {
        "colab": {
          "base_uri": "https://localhost:8080/"
        },
        "id": "cLOhULFeuhY0",
        "outputId": "16270f72-4bdd-49ef-8828-2058c1212f51"
      },
      "source": [
        "N = int(input())\n",
        "\n",
        "num_list = []\n",
        "for _ in range(N):\n",
        "  num_list.append(int(input()))\n",
        "\n",
        "for i in range(len(num_list)):\n",
        "  for j in range(len(num_list)):\n",
        "    if num_list[i] < num_list[j]:\n",
        "      num_list[i], num_list[j] = num_list[j], num_list[i]\n",
        "\n",
        "for _ in num_list:\n",
        "  print(_)"
      ],
      "execution_count": null,
      "outputs": [
        {
          "output_type": "stream",
          "text": [
            "5\n",
            "5\n",
            "2\n",
            "3\n",
            "4\n",
            "1\n",
            "1\n",
            "2\n",
            "3\n",
            "4\n",
            "5\n"
          ],
          "name": "stdout"
        }
      ]
    },
    {
      "cell_type": "code",
      "metadata": {
        "colab": {
          "base_uri": "https://localhost:8080/"
        },
        "id": "obehhOZBvrMs",
        "outputId": "35d2fd89-1397-4cb6-e5af-583e5a4771b2"
      },
      "source": [
        "import sys\n",
        "\n",
        "N = int(input())\n",
        "\n",
        "num_list = []\n",
        "for _ in range(N):\n",
        "  num_list.append(int(sys.stdin.readline()))\n",
        "\n",
        "\n",
        "for _ in sorted(num_list):\n",
        "  print(_)"
      ],
      "execution_count": null,
      "outputs": [
        {
          "output_type": "stream",
          "text": [
            "5\n",
            "5\n",
            "4\n",
            "3\n",
            "2\n",
            "1\n",
            "1\n",
            "2\n",
            "3\n",
            "4\n",
            "5\n"
          ],
          "name": "stdout"
        }
      ]
    },
    {
      "cell_type": "code",
      "metadata": {
        "id": "Hoc-4X8qAHfd"
      },
      "source": [
        "import sys\n",
        "\n",
        "N = int(input())\n",
        "\n",
        "num_list = [0] * 10001\n",
        "\n",
        "for _ in range(N):\n",
        "  num = int(sys.stdin.readline())\n",
        "  num_list[num] += 1\n",
        "\n",
        "for i in range(1, 10001):\n",
        "  if num_list[i] != 0:\n",
        "    for _ in range(num_list[i]):\n",
        "      print(i)"
      ],
      "execution_count": null,
      "outputs": []
    },
    {
      "cell_type": "code",
      "metadata": {
        "id": "lCPrY5x0CU7a"
      },
      "source": [
        "import sys\n",
        "from collections import Counter\n",
        "\n",
        "N = int(input())\n",
        "\n",
        "num_list = []\n",
        "for _ in range(N):\n",
        "  num_list.append(int(sys.stdin.readline()))\n",
        "\n",
        "sansul = round( sum(num_list) / N )\n",
        "num_list.sort()\n",
        "chungang = num_list[N//2]\n",
        "\n",
        "diction = Counter(num_list)\n",
        "modes = diction.most_common()\n",
        "\n",
        "if N > 1:\n",
        "  if modes[0][1] == modes[1][1]:\n",
        "    mod = modes[1][0]\n",
        "  else:\n",
        "    mod = modes[0][0]\n",
        "else:\n",
        "  mod = modes[0][0]\n",
        "\n",
        "length = max(num_list)-min(num_list)\n",
        "\n",
        "print(sansul)\n",
        "print(chungang)\n",
        "print(mod)\n",
        "print(length)"
      ],
      "execution_count": null,
      "outputs": []
    },
    {
      "cell_type": "code",
      "metadata": {
        "colab": {
          "base_uri": "https://localhost:8080/"
        },
        "id": "e1ZXTGkXFF07",
        "outputId": "a3c42684-8ece-4f19-9154-3baa97f9a3b7"
      },
      "source": [
        "N = list(input())\n",
        "\n",
        "N.sort(reverse=True)\n",
        "\n",
        "for i in range(len(N)):\n",
        "  print(N[i], end='')"
      ],
      "execution_count": null,
      "outputs": [
        {
          "output_type": "stream",
          "text": [
            "2143\n",
            "4321"
          ],
          "name": "stdout"
        }
      ]
    },
    {
      "cell_type": "markdown",
      "metadata": {
        "id": "6V6xircea15y"
      },
      "source": [
        "#21.08.03"
      ]
    },
    {
      "cell_type": "code",
      "metadata": {
        "id": "ewtMGmJ2a4rD"
      },
      "source": [
        "import sys\n",
        "N = int(sys.stdin.readline())\n",
        "\n",
        "num_list = []\n",
        "for _ in range(N):\n",
        "  num_list.append(list(map(int, sys.stdin.readline().split())))\n",
        "\n",
        "num_list = sorted(num_list)\n",
        "\n",
        "for i, j in num_list:\n",
        "  print(i, j)"
      ],
      "execution_count": null,
      "outputs": []
    },
    {
      "cell_type": "code",
      "metadata": {
        "id": "zyQdYnqMb81S"
      },
      "source": [
        "import sys\n",
        "\n",
        "input = sys.stdin.readline\n",
        "N = int(input())\n",
        "\n",
        "num_list = []\n",
        "for _ in range(N):\n",
        "  x, y = map(int, input().split())\n",
        "  num_list.append([y, x])\n",
        "\n",
        "num_list = sorted(num_list)\n",
        "\n",
        "for i, j in num_list:\n",
        "  print(j, i)"
      ],
      "execution_count": null,
      "outputs": []
    },
    {
      "cell_type": "code",
      "metadata": {
        "id": "9KYJ1Ra6hBV_"
      },
      "source": [
        "import sys\n",
        "\n",
        "# input = sys.stdin.readline\n",
        "N = int(input())\n",
        "\n",
        "word_list = []\n",
        "for _ in range(N):\n",
        "  word = str(input())\n",
        "  length_word = len(word)\n",
        "  word_list.append((length_word, word))\n",
        "\n",
        "word_set = list(set(word_list))\n",
        "word_set = sorted(word_set)\n",
        "\n",
        "for i, j in word_set:\n",
        "  print(j)"
      ],
      "execution_count": null,
      "outputs": []
    },
    {
      "cell_type": "code",
      "metadata": {
        "id": "WIpROL6slvpY"
      },
      "source": [
        "import sys\n",
        "\n",
        "# input = sys.stdin.readline\n",
        "N = int(input())\n",
        "\n",
        "num_list = []\n",
        "for _ in range(N):\n",
        "  x, y = input().split()\n",
        "  num_list.append((int(x), y.strip()))\n",
        "\n",
        "num_list = sorted(num_list, key = lambda x : x[0])\n",
        "\n",
        "for i, j in num_list:\n",
        "  print(i, j)"
      ],
      "execution_count": null,
      "outputs": []
    },
    {
      "cell_type": "code",
      "metadata": {
        "colab": {
          "base_uri": "https://localhost:8080/"
        },
        "id": "tKStrS1nucLx",
        "outputId": "dd4c32c2-bb80-4e67-9e7b-77d106c79bcf"
      },
      "source": [
        "import sys\n",
        "\n",
        "# input = sys.stdin.readline\n",
        "N = int(input())\n",
        "\n",
        "num_list = list(map(int, input().split()))\n",
        "\n",
        "num_sort = sorted(set(num_list))\n",
        "\n",
        "num_new = {num_sort[i] : i for i in range(len(num_sort))}\n",
        "\n",
        "for i in num_list:\n",
        "  print(num_new[i], end=' ')"
      ],
      "execution_count": null,
      "outputs": [
        {
          "output_type": "stream",
          "text": [
            "5\n",
            "2 4 -10 4 -9\n",
            "2 3 0 3 1 "
          ],
          "name": "stdout"
        }
      ]
    },
    {
      "cell_type": "code",
      "metadata": {
        "id": "piqxDIvrv-L7"
      },
      "source": [
        "import sys\n",
        "n, m = map(int, input().split())\n",
        "\n",
        "visited = [False] * n             # 각 숫자가 사용되었는지\n",
        "result = []                       # 결과출력용\n",
        "\n",
        "def solve(depth, n, m):\n",
        "  if depth == m:                  # 결과출력 길이가 m이면 중단 -> DFS랑 다른 점\n",
        "    print(' '.join(map(str, result))) # 출력형식에 맞추기\n",
        "    return\n",
        "  for i in range(n):              # n까지의 숫자 모두 탐색\n",
        "    if visited[i] == False:       # 이 숫자가 사용되지 않았다면\n",
        "      visited[i] = True           # 이 숫자를 사용한걸로 바꾸고\n",
        "      result.append(i+1)          # 결과에 이 숫자 추가\n",
        "      solve(depth + 1, n, m)      # 결과 길이를 1로 늘려주고, 다시 탐색\n",
        "                                    # 앞에서 사용한 숫자는 넘어가고 사용하지 않은 것만 탐색\n",
        "      visited[i] = False          # 다시 초기화\n",
        "      result.pop()                # 결과값의 마지막 값만 삭제하고 다시\n",
        "                                    # 다시 처음부터 안하고 마지막 값만 고치기\n",
        "\n",
        "solve(0, n, m)"
      ],
      "execution_count": null,
      "outputs": []
    },
    {
      "cell_type": "code",
      "metadata": {
        "colab": {
          "base_uri": "https://localhost:8080/"
        },
        "id": "Hwy50LtVOPnc",
        "outputId": "5fb8cfbe-e8f9-4bb3-8372-c807d623d5b3"
      },
      "source": [
        "import sys\n",
        "n, m = map(int, input().split())\n",
        "\n",
        "visited = [False] * n\n",
        "result = []\n",
        "\n",
        "def solve(depth, idx, n, m):      # idx 인자를 추가해서 앞 숫자보다 더 큰 숫자만 탐색\n",
        "  if depth == m:\n",
        "    print(' '.join(map(str, result)))\n",
        "    return\n",
        "  for i in range(idx, n):         # idx 인자에 앞숫자보다 큰 숫자부터 시작하도록\n",
        "    if visited[i] == False: \n",
        "      visited[i] = True \n",
        "      result.append(i+1)\n",
        "      solve(depth + 1, i+1, n, m) # idx 인자에 앞숫자보다 큰 숫자부터 시작하도록\n",
        "      visited[i] = False\n",
        "      result.pop()\n",
        "\n",
        "solve(0, 0, n, m)"
      ],
      "execution_count": null,
      "outputs": [
        {
          "output_type": "stream",
          "text": [
            "4 2\n",
            "1 2\n",
            "1 3\n",
            "1 4\n",
            "2 3\n",
            "2 4\n",
            "3 4\n"
          ],
          "name": "stdout"
        }
      ]
    },
    {
      "cell_type": "code",
      "metadata": {
        "colab": {
          "base_uri": "https://localhost:8080/"
        },
        "id": "kjB9Evj1X58X",
        "outputId": "87f72cab-bd92-4669-e7df-428b8ec836e3"
      },
      "source": [
        "import sys\n",
        "n, m = map(int, input().split())\n",
        "\n",
        "# 방문했던 숫자도 다시 사용 가능하므로 visit 리스트 제거\n",
        "result = []\n",
        "\n",
        "def solve(depth, n, m):\n",
        "  if depth == m:\n",
        "    print(' '.join(map(str, result)))\n",
        "    return\n",
        "  for i in range(n):\n",
        "    result.append(i+1)\n",
        "    solve(depth + 1, n, m)\n",
        "    result.pop()\n",
        "\n",
        "solve(0, n, m)"
      ],
      "execution_count": null,
      "outputs": [
        {
          "output_type": "stream",
          "text": [
            "4 2\n",
            "1 1\n",
            "1 2\n",
            "1 3\n",
            "1 4\n",
            "2 1\n",
            "2 2\n",
            "2 3\n",
            "2 4\n",
            "3 1\n",
            "3 2\n",
            "3 3\n",
            "3 4\n",
            "4 1\n",
            "4 2\n",
            "4 3\n",
            "4 4\n"
          ],
          "name": "stdout"
        }
      ]
    },
    {
      "cell_type": "code",
      "metadata": {
        "colab": {
          "base_uri": "https://localhost:8080/"
        },
        "id": "MoZs6fhYZhCr",
        "outputId": "55cb8eb5-6a92-46a0-c871-9b9f9492db5c"
      },
      "source": [
        "import sys\n",
        "n, m = map(int, input().split())\n",
        "\n",
        "# 방문했던 숫자도 다시 사용 가능하므로 visit 리스트 제거\n",
        "result = []\n",
        "\n",
        "def solve(depth, idx, n, m):\n",
        "  if depth == m:\n",
        "    print(' '.join(map(str, result)))\n",
        "    return\n",
        "  for i in range(idx, n):\n",
        "    result.append(i+1)      # idx추가해서 앞 숫자와 같거나 큰 숫자만 고려\n",
        "    solve(depth + 1, i, n, m)\n",
        "    result.pop()\n",
        "\n",
        "solve(0, 0, n, m)"
      ],
      "execution_count": null,
      "outputs": [
        {
          "output_type": "stream",
          "text": [
            "3 3\n",
            "1 1 1\n",
            "1 1 2\n",
            "1 1 3\n",
            "1 2 2\n",
            "1 2 3\n",
            "1 3 3\n",
            "2 2 2\n",
            "2 2 3\n",
            "2 3 3\n",
            "3 3 3\n"
          ],
          "name": "stdout"
        }
      ]
    },
    {
      "cell_type": "code",
      "metadata": {
        "colab": {
          "base_uri": "https://localhost:8080/"
        },
        "id": "JgaaWplRaw_p",
        "outputId": "28ac401b-ac70-4c46-c189-8592256bff17"
      },
      "source": [
        "# Python3로는 계속 시간초과라서 PyPy3를 씀\n",
        "# Python3로 해결하기 부적합한 문제라고 함\n",
        "\n",
        "import sys\n",
        "N = int(input()) #sys.stdin.readline\n",
        "\n",
        "row = [False] * N\n",
        "# NxN 정사각형에서 대각선열의 개수는 2N-1개\n",
        "diag1 = [False] * (2*N - 1)\n",
        "diag2 = [False] * (2*N - 1)\n",
        "cnt = 0\n",
        "\n",
        "def solve(depth):\n",
        "  global cnt #전역변수 선언 -> 이렇게 해야 함수 밖에서도 사용가능한거 같음\n",
        "  if depth == N:\n",
        "    cnt += 1\n",
        "    return\n",
        "  \n",
        "  for i in range(N):\n",
        "    # 이 부분이 제일 이해하기 어려운데\n",
        "    # 일단 같은 행에 없고, 같은 대각선 양쪽을 봤을 때 없으면 True로 전환\n",
        "    # 대각선 참조하는 법은 다시 공부해보기\n",
        "    if (row[i] == False) and (diag1[depth+i] == False) and (diag2[depth-i+N-1] == False):\n",
        "      row[i] = diag1[depth+i] = diag2[depth-i+N-1] = True\n",
        "      solve(depth+1)\n",
        "      row[i] = diag1[depth+i] = diag2[depth-i+N-1] = False\n",
        "\n",
        "solve(0)\n",
        "print(cnt)"
      ],
      "execution_count": null,
      "outputs": [
        {
          "output_type": "stream",
          "text": [
            "12\n",
            "14200\n"
          ],
          "name": "stdout"
        }
      ]
    },
    {
      "cell_type": "markdown",
      "metadata": {
        "id": "QwFQOlR-WcIx"
      },
      "source": [
        "#21.08.04"
      ]
    },
    {
      "cell_type": "code",
      "metadata": {
        "id": "-HbtUp5shQeU",
        "colab": {
          "base_uri": "https://localhost:8080/"
        },
        "outputId": "c3943ed6-7017-47ee-e636-b351f72e3969"
      },
      "source": [
        "board = []\n",
        "for _ in range(9):\n",
        "  tmp = list(map(int, input().split()))\n",
        "  board.append(tmp)\n",
        "\n",
        "zeros = []\n",
        "for i in range(9):\n",
        "  for j in range(9):\n",
        "    if board[i][j] == 0:\n",
        "      zeros.append((i,j))\n",
        "\n",
        "def is_promising(i, j):\n",
        "  promising = [1,2,3,4,5,6,7,8,9]\n",
        "\n",
        "  for k in range(9):\n",
        "    if board[i][k] in promising:\n",
        "      promising.remove( board[i][k] )\n",
        "    if board[k][j] in promising:\n",
        "      promising.remove( board[k][j] )\n",
        "    \n",
        "  i //= 3\n",
        "  j //= 3\n",
        "  for p in range( (i*3), (i+1)*3 ):\n",
        "    for q in range( (j*3), (j+1)*3 ):\n",
        "      if board[p][q] in promising:\n",
        "        promising.remove( board[p][q] )\n",
        "\n",
        "  return promising\n",
        "\n",
        "flag = False\n",
        "def DFS(depth):\n",
        "  global flag\n",
        "\n",
        "  if flag:\n",
        "    return\n",
        "  \n",
        "  if depth == len(zeros):\n",
        "    for row in board:\n",
        "      print(*row)\n",
        "    flag = True\n",
        "    return\n",
        "\n",
        "  else:\n",
        "    (i, j) = zeros[depth]\n",
        "    promising = is_promising(i, j)\n",
        "\n",
        "    for num in promising:\n",
        "      board[i][j] = num\n",
        "      DFS(depth + 1)\n",
        "      board[i][j] = 0\n",
        "\n",
        "DFS(0)"
      ],
      "execution_count": 38,
      "outputs": [
        {
          "output_type": "stream",
          "text": [
            "0 3 5 4 6 9 2 7 8\n",
            "7 8 2 1 0 5 6 0 9\n",
            "0 6 0 2 7 8 1 3 5\n",
            "3 2 1 0 4 6 8 9 7\n",
            "8 0 4 9 1 3 5 0 6\n",
            "5 9 6 8 2 0 4 1 3\n",
            "9 1 7 6 5 2 0 8 0\n",
            "6 0 3 7 0 1 9 5 2\n",
            "2 5 8 3 9 4 7 6 0\n",
            "1 3 5 4 6 9 2 7 8\n",
            "7 8 2 1 3 5 6 4 9\n",
            "4 6 9 2 7 8 1 3 5\n",
            "3 2 1 5 4 6 8 9 7\n",
            "8 7 4 9 1 3 5 2 6\n",
            "5 9 6 8 2 7 4 1 3\n",
            "9 1 7 6 5 2 3 8 4\n",
            "6 4 3 7 8 1 9 5 2\n",
            "2 5 8 3 9 4 7 6 1\n"
          ],
          "name": "stdout"
        }
      ]
    },
    {
      "cell_type": "code",
      "metadata": {
        "colab": {
          "base_uri": "https://localhost:8080/"
        },
        "id": "gSCBg202bf9U",
        "outputId": "f25f4a0d-9c6a-43dc-c87b-d1e5dca36e62"
      },
      "source": [
        "N = int(input())\n",
        "num = list(map(int, input().split()))\n",
        "pl_mi = list(map(int, input().split()))\n",
        "\n",
        "\n",
        "result_list = []\n",
        "\n",
        "def DFS(depth, result, pl, mi, mu, dv):\n",
        "  global result_list\n",
        "  if depth == N:\n",
        "    result_list.append(result)\n",
        "    return\n",
        "  \n",
        "  else:\n",
        "    if pl:\n",
        "      DFS(depth+1, result+num[depth], pl-1, mi, mu, dv)\n",
        "    if mi:\n",
        "      DFS(depth+1, result-num[depth], pl, mi-1, mu, dv)\n",
        "    if mu:\n",
        "      DFS(depth+1, result*num[depth], pl, mi, mu-1, dv)\n",
        "    if dv:\n",
        "      DFS(depth+1, result//num[depth] if result > 0 else -(-result//num[depth]) , pl, mi, mu, dv-1)\n",
        "\n",
        "\n",
        "DFS(1, num[0], pl_mi[0], pl_mi[1], pl_mi[2], pl_mi[3])\n",
        "print(max(result_list))\n",
        "print(min(result_list))"
      ],
      "execution_count": 47,
      "outputs": [
        {
          "output_type": "stream",
          "text": [
            "6\n",
            "1 2 3 4 5 6\n",
            "2 1 1 1\n",
            "54\n",
            "-24\n"
          ],
          "name": "stdout"
        }
      ]
    },
    {
      "cell_type": "code",
      "metadata": {
        "colab": {
          "base_uri": "https://localhost:8080/"
        },
        "id": "ykup7sremhep",
        "outputId": "ebf6234e-51cc-4a7c-a7ed-b47f642bd749"
      },
      "source": [
        "N = int(input())\n",
        "S = [list(map(int, input().split())) for _ in range(N)]\n",
        "\n",
        "from itertools import combinations\n",
        "\n",
        "# 링크팀 조합\n",
        "team_rink = list(combinations(range(N), N//2))\n",
        "# 스타트팀 조합(링크팀에 뽑히지 않은 사람으로)\n",
        "team_start = []\n",
        "for j in team_rink:\n",
        "  tmp = []\n",
        "  for i in range(N):\n",
        "    if i not in j:\n",
        "      tmp.append(i)\n",
        "  team_start.append(tmp)\n",
        "\n",
        "# 각 조합별 점수 계산 함수\n",
        "def calcul(team):\n",
        "\n",
        "  score_list = []\n",
        "\n",
        "  for i in range(len(team)):\n",
        "    sum_tmp = list(combinations(team[i], 2))\n",
        "    score = 0\n",
        "    for k, l in sum_tmp:\n",
        "      score += (S[k][l] + S[l][k])\n",
        "    score_list.append(score)\n",
        "  \n",
        "  return score_list\n",
        "\n",
        "# 점수차이 리스트 생성\n",
        "diff_list = []\n",
        "for i in range(len(team_rink)):\n",
        "  diff_list.append(abs(calcul(team_start)[i] - calcul(team_rink)[i]))\n",
        "\n",
        "# 최솟값 출력\n",
        "print(min(diff_list))\n",
        "\n",
        "#######################\n",
        "###############시간초과"
      ],
      "execution_count": 124,
      "outputs": [
        {
          "output_type": "stream",
          "text": [
            "8\n",
            "0 5 4 5 4 5 4 5\n",
            "4 0 5 1 2 3 4 5\n",
            "9 8 0 1 2 3 1 2\n",
            "9 9 9 0 9 9 9 9\n",
            "1 1 1 1 0 1 1 1\n",
            "8 7 6 5 4 0 3 2\n",
            "9 1 9 1 9 1 0 9\n",
            "6 5 4 3 2 1 9 0\n",
            "1\n"
          ],
          "name": "stdout"
        }
      ]
    }
  ]
}