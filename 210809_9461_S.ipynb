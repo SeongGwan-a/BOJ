{
  "nbformat": 4,
  "nbformat_minor": 0,
  "metadata": {
    "colab": {
      "name": "200809_9461_S.ipynb",
      "provenance": [],
      "collapsed_sections": [],
      "authorship_tag": "ABX9TyPtituN/Z5KBmAFxVIMIcQn",
      "include_colab_link": true
    },
    "kernelspec": {
      "name": "python3",
      "display_name": "Python 3"
    },
    "language_info": {
      "name": "python"
    }
  },
  "cells": [
    {
      "cell_type": "markdown",
      "metadata": {
        "id": "view-in-github",
        "colab_type": "text"
      },
      "source": [
        "<a href=\"https://colab.research.google.com/github/tjdrhks0808/BOJ/blob/main/210809_9461_S.ipynb\" target=\"_parent\"><img src=\"https://colab.research.google.com/assets/colab-badge.svg\" alt=\"Open In Colab\"/></a>"
      ]
    },
    {
      "cell_type": "markdown",
      "metadata": {
        "id": "TN0QxX1sz7RB"
      },
      "source": [
        "# BOJ 9461\n",
        "> 파도반 수열\n",
        "\n",
        "오른쪽 그림과 같이 삼각형이 나선 모양으로 놓여져 있다. 첫 삼각형은 정삼각형으로 변의 길이는 1이다. 그 다음에는 다음과 같은 과정으로 정삼각형을 계속 추가한다. 나선에서 가장 긴 변의 길이를 k라 했을 때, 그 변에 길이가 k인 정삼각형을 추가한다.\n",
        "\n",
        "파도반 수열 P(N)은 나선에 있는 정삼각형의 변의 길이이다. P(1)부터 P(10)까지 첫 10개 숫자는 1, 1, 1, 2, 2, 3, 4, 5, 7, 9이다.\n",
        "\n",
        "N이 주어졌을 때, P(N)을 구하는 프로그램을 작성하시오.\n",
        "\n",
        "https://www.acmicpc.net/problem/9461"
      ]
    },
    {
      "cell_type": "code",
      "metadata": {
        "colab": {
          "base_uri": "https://localhost:8080/"
        },
        "id": "LXvfldCJvhS_",
        "outputId": "c3c2aed7-8fd3-4ae7-9a47-c74d251012e9"
      },
      "source": [
        "import sys\n",
        "T = int(input()) #sys.stdin.readline()\n",
        "\n",
        "start = [0, 1, 1, 1, 2, 2]\n",
        "\n",
        "\n",
        "for _ in range(T):\n",
        "  N = int(input()) #sys.stdin.readline()\n",
        "  for i in range(6, N+1):\n",
        "    start.insert(i, start[i-1] + start[i-5])\n",
        "  print(start[N])"
      ],
      "execution_count": 11,
      "outputs": [
        {
          "output_type": "stream",
          "text": [
            "2\n",
            "6\n",
            "3\n",
            "12\n",
            "16\n"
          ],
          "name": "stdout"
        }
      ]
    }
  ]
}