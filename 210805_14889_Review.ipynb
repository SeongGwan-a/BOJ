{
  "nbformat": 4,
  "nbformat_minor": 0,
  "metadata": {
    "colab": {
      "name": "210805_14889_Review.ipynb",
      "provenance": [],
      "collapsed_sections": [
        "FLJECMXhpvlD"
      ],
      "authorship_tag": "ABX9TyMQ0cpVZUaLsBBVfSqovROz",
      "include_colab_link": true
    },
    "kernelspec": {
      "name": "python3",
      "display_name": "Python 3"
    },
    "language_info": {
      "name": "python"
    }
  },
  "cells": [
    {
      "cell_type": "markdown",
      "metadata": {
        "id": "view-in-github",
        "colab_type": "text"
      },
      "source": [
        "<a href=\"https://colab.research.google.com/github/tjdrhks0808/BOJ/blob/main/210805_14889_Review.ipynb\" target=\"_parent\"><img src=\"https://colab.research.google.com/assets/colab-badge.svg\" alt=\"Open In Colab\"/></a>"
      ]
    },
    {
      "cell_type": "markdown",
      "metadata": {
        "id": "XnGfGeqZpamM"
      },
      "source": [
        "# BOJ 14889\n",
        "> 스타트와 링크\n",
        "\n",
        "\n",
        "---\n",
        "\n",
        "\n",
        "오늘은 스타트링크에 다니는 사람들이 모여서 축구를 해보려고 한다. 축구는 평일 오후에 하고 의무 참석도 아니다. 축구를 하기 위해 모인 사람은 총 N명이고 신기하게도 N은 짝수이다. 이제 N/2명으로 이루어진 스타트 팀과 링크 팀으로 사람들을 나눠야 한다.\n",
        "\n",
        "BOJ를 운영하는 회사 답게 사람에게 번호를 1부터 N까지로 배정했고, 아래와 같은 능력치를 조사했다. 능력치 Sij는 i번 사람과 j번 사람이 같은 팀에 속했을 때, 팀에 더해지는 능력치이다. 팀의 능력치는 팀에 속한 모든 쌍의 능력치 Sij의 합이다. Sij는 Sji와 다를 수도 있으며, i번 사람과 j번 사람이 같은 팀에 속했을 때, 팀에 더해지는 능력치는 Sij와 Sji이다.\n",
        "\n",
        "축구를 재미있게 하기 위해서 스타트 팀의 능력치와 링크 팀의 능력치의 차이를 최소로 하려고 한다.\n",
        "\n",
        "https://www.acmicpc.net/problem/14889"
      ]
    },
    {
      "cell_type": "markdown",
      "metadata": {
        "id": "FLJECMXhpvlD"
      },
      "source": [
        "## **처음 제출 코드**"
      ]
    },
    {
      "cell_type": "code",
      "metadata": {
        "id": "hlu5TCyqpDIP"
      },
      "source": [
        "import sys\n",
        "N = int(sys.stdin.readline())\n",
        "S = [list(map(int, sys.stdin.readline().split())) for _ in range(N)]\n",
        "\n",
        "# 파이썬 내부함수 중 combinations 활용\n",
        "from itertools import combinations\n",
        "\n",
        "# 가능한 링크팀 조합\n",
        "team_rink = list(combinations(range(N), N//2))\n",
        "# 스타트팀 조합(링크팀에 뽑히지 않은 사람으로)\n",
        "team_start = []\n",
        "for j in team_rink:\n",
        "  tmp = []\n",
        "  for i in range(N):\n",
        "    if i not in j:\n",
        "      tmp.append(i)\n",
        "  team_start.append(tmp)\n",
        "\n",
        "# 팀의 능력치 계산함수\n",
        "def calcul(team):\n",
        "\n",
        "  score_list = []\n",
        "\n",
        "  for i in range(len(team)):\n",
        "    # N/2명의 팀의 능력치를 계산하기 위해서 2명씩 짝 지어줌\n",
        "    sum_tmp = list(combinations(team[i], 2))\n",
        "    score = 0\n",
        "    for k, l in sum_tmp:\n",
        "    # Sij와 Sji가 다른 경우가 있기 때문에 각각의 능력치를 더함\n",
        "      score += (S[k][l] + S[l][k])\n",
        "    score_list.append(score)\n",
        "  \n",
        "  return score_list\n",
        "\n",
        "# 두 팀의 능력치 차이 계산\n",
        "diff_list = []\n",
        "\n",
        "# 스타트팀의 조합을 링크팀에 뽑히지 않은 사람으로 뽑았기 때문에\n",
        "# 같은 인덱스의 각 팀의 조합은 겹치지 않음\n",
        "for i in range(len(team_rink)):\n",
        "  diff_list.append(abs(calcul(team_start)[i] - calcul(team_rink)[i]))\n",
        "\n",
        "# 최솟값 출력\n",
        "print(min(diff_list))"
      ],
      "execution_count": null,
      "outputs": []
    },
    {
      "cell_type": "markdown",
      "metadata": {
        "id": "1dS2yf4WqrgS"
      },
      "source": [
        "결과는 시간초과\n",
        "\n",
        "반복문의 개수가 많아 더 오래 걸리는 것 같아 인터넷을 참고해서 짧게 수정했다."
      ]
    },
    {
      "cell_type": "markdown",
      "metadata": {
        "id": "jE0zWgg1q0aU"
      },
      "source": [
        "##**정답코드**"
      ]
    },
    {
      "cell_type": "code",
      "metadata": {
        "id": "iHCq6nWkpV9y"
      },
      "source": [
        "from itertools import combinations\n",
        "import sys\n",
        "\n",
        "N = int(sys.stdin.readline())\n",
        "S = [list(map(int, sys.stdin.readline().split())) for _ in range(N)]\n",
        "members = [i for i in range(N)]\n",
        "possible_team = []\n",
        "\n",
        "#조합으로 가능한 팀 생성해주기\n",
        "#처음과 다르게 두 팀을 따로 생성하지 않고 가능한 조합만 생성했다.\n",
        "\n",
        "for team in list(combinations(members, N//2)):\n",
        "    possible_team.append(team)\n",
        "\n",
        "\n",
        "#갭이 가장 작은 값을 찾기 위해서 어느정도 큰 값을 지정해 준다.\n",
        "#결과 리스트를 만들어 그 중 최솟값을 찾는 것 보다 빠른 방법\n",
        "\n",
        "min_stat_gap = 10000\n",
        "\n",
        "#가능한 조합에서 i번째 조합과 뒤에서 i-1번째 조합은 겹치지 않는 것을 이용함 \n",
        "#예를 들어 총 10개의 조합이 있다면, 0번과 10번, 1번과 9번은 전혀 겹치지 않음 \n",
        "for i in range(len(possible_team)//2):\n",
        "    #A 팀\n",
        "    team = possible_team[i]\n",
        "    stat_A = 0 #A팀 능력치\n",
        "    for j in range(N//2):\n",
        "        member = team[j] #멤버\n",
        "        for k in team:\n",
        "            stat_A += S[member][k] #멤버와 함께할 경우의 능력치들\n",
        "            \n",
        "    #A를 제외한 나머지 팀\n",
        "    team = possible_team[-i-1]\n",
        "    stat_B = 0\n",
        "    for j in range(N//2):\n",
        "        member = team[j]\n",
        "        for k in team:\n",
        "            stat_B += S[member][k]\n",
        "            \n",
        "    min_stat_gap = min(min_stat_gap, abs(stat_A - stat_B))\n",
        "    \n",
        "print(min_stat_gap)"
      ],
      "execution_count": null,
      "outputs": []
    }
  ]
}