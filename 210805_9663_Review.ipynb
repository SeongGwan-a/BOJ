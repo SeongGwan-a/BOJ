{
  "nbformat": 4,
  "nbformat_minor": 0,
  "metadata": {
    "colab": {
      "name": "210805_9663_Review.ipynb",
      "provenance": [],
      "collapsed_sections": [],
      "authorship_tag": "ABX9TyOBuuTDXnRlUoDA/Z//5fsF",
      "include_colab_link": true
    },
    "kernelspec": {
      "name": "python3",
      "display_name": "Python 3"
    },
    "language_info": {
      "name": "python"
    }
  },
  "cells": [
    {
      "cell_type": "markdown",
      "metadata": {
        "id": "view-in-github",
        "colab_type": "text"
      },
      "source": [
        "<a href=\"https://colab.research.google.com/github/tjdrhks0808/BOJ/blob/main/210805_9663_Review.ipynb\" target=\"_parent\"><img src=\"https://colab.research.google.com/assets/colab-badge.svg\" alt=\"Open In Colab\"/></a>"
      ]
    },
    {
      "cell_type": "markdown",
      "metadata": {
        "id": "rygr03XahOgj"
      },
      "source": [
        "#BOJ 9663\n",
        "> N-Queen\n",
        "\n",
        "\n",
        "---\n",
        "\n",
        "\n",
        "N-Queen 문제는 크기가 N × N인 체스판 위에 퀸 N개를 서로 공격할 수 없게 놓는 문제이다.\n",
        "\n",
        "N이 주어졌을 때, 퀸을 놓는 방법의 수를 구하는 프로그램을 작성하시오.\n",
        "\n",
        "https://www.acmicpc.net/problem/9663"
      ]
    },
    {
      "cell_type": "code",
      "metadata": {
        "id": "ihqNsN6fg1Po"
      },
      "source": [
        "import sys\n",
        "N = int(input()) #sys.stdin.readline -> 제출할 때는 input대신 sys사용\n",
        "\n",
        "row = [False] * N\n",
        "# NxN 정사각형에서 대각선열의 개수는 2N-1개\n",
        "diag1 = [False] * (2*N - 1)\n",
        "diag2 = [False] * (2*N - 1)\n",
        "\n",
        "# 정답횟수 셀 변수\n",
        "cnt = 0\n",
        "\n",
        "def solve(depth):\n",
        "  global cnt          # 전역변수로 선언\n",
        "  if depth == N:      # depth = 공격할 수 없게 놓아진 퀸의 개수\n",
        "    cnt += 1          # 퀸이 총 N개 놓아졌다면 cnt +1\n",
        "    return\n",
        "  \n",
        "  for i in range(N):\n",
        "    # 각 열에는 어차피 한개의 퀸 밖에 놓아질 수 없음\n",
        "    # 각 열의 몇번째 장소에 놓아야 하는지를 체크\n",
        "    # 1. 놓으려는 행에 퀸이 없는 경우(i:행)\n",
        "    # 2. ↘ 방향 대각선에 퀸이 없는 경우(열 + 행)\n",
        "    # 3. ↙ 방향 대각선에 퀸이 없는 경우(열 - 행 + N - 1)\n",
        "    if (row[i] == False) and (diag1[depth+i] == False) and (diag2[depth-i+N-1] == False):\n",
        "      row[i] = diag1[depth+i] = diag2[depth-i+N-1] = True\n",
        "      solve(depth+1)\n",
        "      row[i] = diag1[depth+i] = diag2[depth-i+N-1] = False\n",
        "\n",
        "solve(0)\n",
        "print(cnt)"
      ],
      "execution_count": null,
      "outputs": []
    }
  ]
}