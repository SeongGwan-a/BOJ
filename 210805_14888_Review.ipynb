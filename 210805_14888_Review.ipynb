{
  "nbformat": 4,
  "nbformat_minor": 0,
  "metadata": {
    "colab": {
      "name": "210805_14888_Review.ipynb",
      "provenance": [],
      "collapsed_sections": [],
      "authorship_tag": "ABX9TyNkspjPXPczQXXfEYQM+WEB",
      "include_colab_link": true
    },
    "kernelspec": {
      "name": "python3",
      "display_name": "Python 3"
    },
    "language_info": {
      "name": "python"
    }
  },
  "cells": [
    {
      "cell_type": "markdown",
      "metadata": {
        "id": "view-in-github",
        "colab_type": "text"
      },
      "source": [
        "<a href=\"https://colab.research.google.com/github/tjdrhks0808/BOJ/blob/main/210805_14888_Review.ipynb\" target=\"_parent\"><img src=\"https://colab.research.google.com/assets/colab-badge.svg\" alt=\"Open In Colab\"/></a>"
      ]
    },
    {
      "cell_type": "markdown",
      "metadata": {
        "id": "uXPmgNIwmjvm"
      },
      "source": [
        "# BOJ 14888\n",
        "> 연산자 끼워넣기\n",
        "\n",
        "\n",
        "---\n",
        "\n",
        "\n",
        "N개의 수로 이루어진 수열 A1, A2, ..., AN이 주어진다. 또, 수와 수 사이에 끼워넣을 수 있는 N-1개의 연산자가 주어진다. 연산자는 덧셈(+), 뺄셈(-), 곱셈(×), 나눗셈(÷)으로만 이루어져 있다.\n",
        "\n",
        "우리는 수와 수 사이에 연산자를 하나씩 넣어서, 수식을 하나 만들 수 있다. 이때, 주어진 수의 순서를 바꾸면 안 된다.\n",
        "\n",
        "예를 들어, 6개의 수로 이루어진 수열이 1, 2, 3, 4, 5, 6이고, 주어진 연산자가 덧셈(+) 2개, 뺄셈(-) 1개, 곱셈(×) 1개, 나눗셈(÷) 1개인 경우에는 총 60가지의 식을 만들 수 있다.\n",
        "\n",
        "식의 계산은 연산자 우선 순위를 무시하고 앞에서부터 진행해야 한다. 또, 나눗셈은 정수 나눗셈으로 몫만 취한다. 음수를 양수로 나눌 때는 C++14의 기준을 따른다. 즉, 양수로 바꾼 뒤 몫을 취하고, 그 몫을 음수로 바꾼 것과 같다.\n",
        "\n",
        "N개의 수와 N-1개의 연산자가 주어졌을 때, 만들 수 있는 식의 결과가 최대인 것과 최소인 것을 구하는 프로그램을 작성하시오.\n",
        "\n",
        "https://www.acmicpc.net/problem/14888\n"
      ]
    },
    {
      "cell_type": "code",
      "metadata": {
        "id": "psj58hP3menB"
      },
      "source": [
        "import sys\n",
        "\n",
        "# 숫자의 개수, 숫자리스트, 연산자개수리스트 입력\n",
        "N = int(sys.stdin.readline())\n",
        "num = list(map(int, sys.stdin.readline().split()))\n",
        "pl_mi = list(map(int, sys.stdin.readline().split()))\n",
        "\n",
        "# 가능한 모든 경우의 결과값을 저장\n",
        "result_list = []\n",
        "\n",
        "# 함수 인자 : (행 인덱스, 직전 결과값, 덧셈 개수, 뺄셈 개수, 곱셈 개수, 나눗셈 개수)\n",
        "def DFS(depth, result, pl, mi, mu, dv):\n",
        "  global result_list\n",
        "  \n",
        "  # 행의 마지막까지 계산을 끝냈다면 결과리스트에 저장\n",
        "  if depth == N:\n",
        "    result_list.append(result)\n",
        "    return\n",
        "  \n",
        "  else:\n",
        "\n",
        "    # 덧셈의 남은 개수가 0이 아니라면\n",
        "    if pl:\n",
        "      # 다음 행으로 넘어감, 직전 결과값에 다음 숫자 더하기, 덧셈 개수-1, ... )\n",
        "      DFS(depth+1, result+num[depth], pl-1, mi, mu, dv)\n",
        "    if mi:\n",
        "      # 다음 행으로 넘어감, 직전 결과값에 다음 숫자 뺄셈, ... , 뺄셈 개수 -1, ... )\n",
        "      DFS(depth+1, result-num[depth], pl, mi-1, mu, dv)\n",
        "    if mu:\n",
        "      DFS(depth+1, result*num[depth], pl, mi, mu-1, dv)\n",
        "    if dv:\n",
        "      DFS(depth+1, result//num[depth] if result > 0 else -(-result//num[depth]) , pl, mi, mu, dv-1)\n",
        "\n",
        "\n",
        "# 두번째 행부터 시작, 첫번째 값을 초기값으로 지정\n",
        "DFS(1, num[0], pl_mi[0], pl_mi[1], pl_mi[2], pl_mi[3])\n",
        "print(max(result_list))\n",
        "print(min(result_list))"
      ],
      "execution_count": null,
      "outputs": []
    }
  ]
}