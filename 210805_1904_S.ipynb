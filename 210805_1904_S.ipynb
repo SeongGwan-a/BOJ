{
  "nbformat": 4,
  "nbformat_minor": 0,
  "metadata": {
    "colab": {
      "name": "210805_1904_S.ipynb",
      "provenance": [],
      "collapsed_sections": [],
      "authorship_tag": "ABX9TyNQbiWBV/8qQxYNHySVob9U",
      "include_colab_link": true
    },
    "kernelspec": {
      "name": "python3",
      "display_name": "Python 3"
    },
    "language_info": {
      "name": "python"
    }
  },
  "cells": [
    {
      "cell_type": "markdown",
      "metadata": {
        "id": "view-in-github",
        "colab_type": "text"
      },
      "source": [
        "<a href=\"https://colab.research.google.com/github/tjdrhks0808/BOJ/blob/main/210805_1904_S.ipynb\" target=\"_parent\"><img src=\"https://colab.research.google.com/assets/colab-badge.svg\" alt=\"Open In Colab\"/></a>"
      ]
    },
    {
      "cell_type": "markdown",
      "metadata": {
        "id": "lUySgmZzSxN3"
      },
      "source": [
        "# BOJ 1904\n",
        "> 01타일\n",
        "\n",
        "---\n",
        "\n",
        "지원이에게 2진 수열을 가르쳐 주기 위해, 지원이 아버지는 그에게 타일들을 선물해주셨다. 그리고 이 각각의 타일들은 0 또는 1이 쓰여 있는 낱장의 타일들이다.\n",
        "\n",
        "어느 날 짓궂은 동주가 지원이의 공부를 방해하기 위해 0이 쓰여진 낱장의 타일들을 붙여서 한 쌍으로 이루어진 00 타일들을 만들었다. 결국 현재 1 하나만으로 이루어진 타일 또는 0타일을 두 개 붙인 한 쌍의 00타일들만이 남게 되었다.\n",
        "\n",
        "그러므로 지원이는 타일로 더 이상 크기가 N인 모든 2진 수열을 만들 수 없게 되었다. 예를 들어, N=1일 때 1만 만들 수 있고, N=2일 때는 00, 11을 만들 수 있다. (01, 10은 만들 수 없게 되었다.) 또한 N=4일 때는 0011, 0000, 1001, 1100, 1111 등 총 5개의 2진 수열을 만들 수 있다.\n",
        "\n",
        "우리의 목표는 N이 주어졌을 때 지원이가 만들 수 있는 모든 가짓수를 세는 것이다. 단 타일들은 무한히 많은 것으로 가정하자.\n",
        "\n",
        "https://www.acmicpc.net/problem/1904"
      ]
    },
    {
      "cell_type": "code",
      "metadata": {
        "colab": {
          "base_uri": "https://localhost:8080/"
        },
        "id": "xgvPY21xSvjR",
        "outputId": "a42fa7be-6c2e-4bbb-c2b4-4c3c6019062d"
      },
      "source": [
        "import sys\n",
        "N = int(input()) #sys.stdin.readline()\n",
        "\n",
        "memory = [0] * 1000001\n",
        "memory[1] = 1\n",
        "memory[2] = 2\n",
        "\n",
        "for i in range(3, N+1):\n",
        "  memory[i] = (memory[i-2] + memory[i-1]) % 15746\n",
        "\n",
        "print(memory[N])"
      ],
      "execution_count": 41,
      "outputs": [
        {
          "output_type": "stream",
          "text": [
            "5\n",
            "8\n"
          ],
          "name": "stdout"
        }
      ]
    },
    {
      "cell_type": "markdown",
      "metadata": {
        "id": "UZlt2VRaZ3c4"
      },
      "source": [
        "15746으로 나눈 나머지를 출력하라는 문제를 못봐서 오래 생각한 문제\n",
        "\n",
        "문제 천천히 읽기!"
      ]
    },
    {
      "cell_type": "code",
      "metadata": {
        "id": "NyfnTb95Z-Xe"
      },
      "source": [
        ""
      ],
      "execution_count": null,
      "outputs": []
    }
  ]
}